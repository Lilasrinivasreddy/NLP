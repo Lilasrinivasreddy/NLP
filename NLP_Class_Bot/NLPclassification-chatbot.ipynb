{
 "cells": [
  {
   "cell_type": "markdown",
   "metadata": {},
   "source": [
    "# Text classification using NLP / Core engine of a chat bot."
   ]
  },
  {
   "cell_type": "markdown",
   "metadata": {},
   "source": [
    "Human language is astoundingly complex and diverse. When we write, we often misspell or abbreviate words, or omit punctuation. There is a lot of unstructured data around us. Natural language processing helps computers communicate with humans in their own language and scales other language-related tasks. For example, NLP makes it possible for computers to read text, interpret it, measure sentiment and determine which parts are important. Understanding this will enable you to build the core component of any conversational chatbot. This is the core engine of a conversational chatbot"
   ]
  },
  {
   "cell_type": "markdown",
   "metadata": {},
   "source": [
    "Detecting patterns is a central part of Natural Language Processing. Words ending in -ed tend to be past tense verbs. Frequent use of will is indicative of news text (3). These observable patterns — word structure and word frequency — happen to correlate with particular aspects of meaning, such as tense and topic. But how did we know where to start looking, which aspects of form to associate with which aspects of meaning? In this series we shall learn to create the core engine of a chat bot. We will learn text classification using the techniques of natural language processing.\n",
    "\n"
   ]
  },
  {
   "cell_type": "code",
   "execution_count": null,
   "metadata": {},
   "outputs": [],
   "source": []
  },
  {
   "cell_type": "markdown",
   "metadata": {},
   "source": [
    "# Import useful libraries"
   ]
  },
  {
   "cell_type": "code",
   "execution_count": 1,
   "metadata": {},
   "outputs": [],
   "source": [
    "import nltk"
   ]
  },
  {
   "cell_type": "code",
   "execution_count": 2,
   "metadata": {},
   "outputs": [
    {
     "name": "stdout",
     "output_type": "stream",
     "text": [
      "/bin/sh: -c: line 1: syntax error: unexpected end of file\r\n"
     ]
    }
   ],
   "source": [
    "!nltk.download_gui()"
   ]
  },
  {
   "cell_type": "markdown",
   "metadata": {},
   "source": [
    "### Install NLTK components:\n",
    "    \n",
    "nltk.download_gui()\n",
    "\n",
    "#The above will open a GUI\n",
    "Select the below\n",
    "\n",
    "    stopwords from Corpa\n",
    "    averaged_perceptron_tagger from All corpus\n",
    "    wordnet\n",
    "    \n",
    "OR you can download all the nltk components by:\n",
    "    nltk.download()\n",
    "    \n",
    "Please Note: The above will take much time (30-60mins depending on Internet speed)"
   ]
  },
  {
   "cell_type": "code",
   "execution_count": 3,
   "metadata": {},
   "outputs": [],
   "source": [
    "import re\n",
    "import os\n",
    "import csv\n",
    "from nltk.stem.snowball import SnowballStemmer\n",
    "import random\n",
    "from nltk.classify import SklearnClassifier\n",
    "from nltk.tokenize import RegexpTokenizer\n",
    "from nltk.corpus import stopwords\n",
    "from nltk.stem.wordnet import WordNetLemmatizer\n",
    "import numpy as np\n",
    "import pandas as pd"
   ]
  },
  {
   "cell_type": "code",
   "execution_count": 4,
   "metadata": {},
   "outputs": [],
   "source": [
    "## Get multiple outputs in the same cell\n",
    "from IPython.core.interactiveshell import InteractiveShell\n",
    "InteractiveShell.ast_node_interactivity = \"all\"\n",
    "\n",
    "## Ignore all warnings\n",
    "import warnings\n",
    "warnings.filterwarnings('ignore')\n",
    "warnings.filterwarnings(action='ignore', category=DeprecationWarning)"
   ]
  },
  {
   "cell_type": "code",
   "execution_count": 5,
   "metadata": {},
   "outputs": [],
   "source": [
    "## Display all rows and columns of a dataframe instead of a truncated version\n",
    "from IPython.display import display\n",
    "pd.set_option('display.max_columns', None)\n",
    "pd.set_option('display.max_rows', None)"
   ]
  },
  {
   "cell_type": "markdown",
   "metadata": {},
   "source": [
    "## Preprocess"
   ]
  },
  {
   "cell_type": "code",
   "execution_count": 6,
   "metadata": {},
   "outputs": [],
   "source": [
    "sentence = \"The Big brown fox jumped over a lazy dog.\"\n",
    "sentence2 = \"This is particularly important in today's world where we are swamped with unstructured natural language data on the variety of social media platforms people engage in now-a-days (note -  now-a-days in the decade of 2010-2020)\""
   ]
  },
  {
   "cell_type": "code",
   "execution_count": 8,
   "metadata": {},
   "outputs": [
    {
     "data": {
      "text/plain": [
       "False"
      ]
     },
     "execution_count": 8,
     "metadata": {},
     "output_type": "execute_result"
    },
    {
     "name": "stdout",
     "output_type": "stream",
     "text": [
      "abcdefgh\n"
     ]
    },
    {
     "data": {
      "text/plain": [
       "'the big brown fox jumped over a lazy dog.'"
      ]
     },
     "execution_count": 8,
     "metadata": {},
     "output_type": "execute_result"
    },
    {
     "data": {
      "text/plain": [
       "\"this is particularly important in today's world where we are swamped with unstructured natural language data on the variety of social media platforms people engage in now-a-days (note -  now-a-days in the decade of 2010-2020)\""
      ]
     },
     "execution_count": 8,
     "metadata": {},
     "output_type": "execute_result"
    }
   ],
   "source": [
    "#convert sentence to lower case\n",
    "'This' == 'this'\n",
    "print('AbcdEFgH'.lower())\n",
    "sentence.lower()\n",
    "sentence2.lower()"
   ]
  },
  {
   "cell_type": "markdown",
   "metadata": {},
   "source": [
    "### Tokenize - extract individual words"
   ]
  },
  {
   "cell_type": "code",
   "execution_count": 9,
   "metadata": {},
   "outputs": [
    {
     "data": {
      "text/plain": [
       "['The', 'Big', 'brown', 'fox', 'jumped', 'over', 'a', 'lazy', 'dog']"
      ]
     },
     "execution_count": 9,
     "metadata": {},
     "output_type": "execute_result"
    },
    {
     "data": {
      "text/plain": [
       "['This',\n",
       " 'is',\n",
       " 'particularly',\n",
       " 'important',\n",
       " 'in',\n",
       " 'today',\n",
       " 's',\n",
       " 'world',\n",
       " 'where',\n",
       " 'we',\n",
       " 'are',\n",
       " 'swamped',\n",
       " 'with',\n",
       " 'unstructured',\n",
       " 'natural',\n",
       " 'language',\n",
       " 'data',\n",
       " 'on',\n",
       " 'the',\n",
       " 'variety',\n",
       " 'of',\n",
       " 'social',\n",
       " 'media',\n",
       " 'platforms',\n",
       " 'people',\n",
       " 'engage',\n",
       " 'in',\n",
       " 'now',\n",
       " 'a',\n",
       " 'days',\n",
       " 'note',\n",
       " 'now',\n",
       " 'a',\n",
       " 'days',\n",
       " 'in',\n",
       " 'the',\n",
       " 'decade',\n",
       " 'of',\n",
       " '2010',\n",
       " '2020']"
      ]
     },
     "execution_count": 9,
     "metadata": {},
     "output_type": "execute_result"
    }
   ],
   "source": [
    "tokenizer = RegexpTokenizer(r'\\w+')\n",
    "tokens = tokenizer.tokenize(sentence)\n",
    "tokens\n",
    "tokens2 = tokenizer.tokenize(sentence2)\n",
    "tokens2"
   ]
  },
  {
   "cell_type": "markdown",
   "metadata": {},
   "source": [
    "### Stopwords : Filter words to remove non-useful words"
   ]
  },
  {
   "cell_type": "code",
   "execution_count": 10,
   "metadata": {},
   "outputs": [
    {
     "data": {
      "text/plain": [
       "['The', 'Big', 'brown', 'fox', 'jumped', 'lazy', 'dog']"
      ]
     },
     "execution_count": 10,
     "metadata": {},
     "output_type": "execute_result"
    }
   ],
   "source": [
    "filtered_words = [w for w in tokens if not w in stopwords.words('english')]\n",
    "filtered_words"
   ]
  },
  {
   "cell_type": "code",
   "execution_count": 11,
   "metadata": {},
   "outputs": [
    {
     "data": {
      "text/plain": [
       "['This',\n",
       " 'particularly',\n",
       " 'important',\n",
       " 'today',\n",
       " 'world',\n",
       " 'swamped',\n",
       " 'unstructured',\n",
       " 'natural',\n",
       " 'language',\n",
       " 'data',\n",
       " 'variety',\n",
       " 'social',\n",
       " 'media',\n",
       " 'platforms',\n",
       " 'people',\n",
       " 'engage',\n",
       " 'days',\n",
       " 'note',\n",
       " 'days',\n",
       " 'decade',\n",
       " '2010',\n",
       " '2020']"
      ]
     },
     "execution_count": 11,
     "metadata": {},
     "output_type": "execute_result"
    }
   ],
   "source": [
    "filtered_words = [w for w in tokens2 if not w in stopwords.words('english')]\n",
    "filtered_words"
   ]
  },
  {
   "cell_type": "code",
   "execution_count": 12,
   "metadata": {},
   "outputs": [],
   "source": [
    "def preprocess(sentence):\n",
    "    sentence = sentence.lower()\n",
    "    tokenizer = RegexpTokenizer(r'\\w+')\n",
    "    tokens = tokenizer.tokenize(sentence)\n",
    "    filtered_words = [w for w in tokens if not w in stopwords.words('english')]\n",
    "    return filtered_words"
   ]
  },
  {
   "cell_type": "code",
   "execution_count": 13,
   "metadata": {},
   "outputs": [
    {
     "name": "stdout",
     "output_type": "stream",
     "text": [
      "['big', 'brown', 'fox', 'jumped', 'lazy', 'dog']\n"
     ]
    }
   ],
   "source": [
    "preprocessed_sentence = preprocess(sentence)\n",
    "print(preprocessed_sentence)"
   ]
  },
  {
   "cell_type": "code",
   "execution_count": 14,
   "metadata": {},
   "outputs": [
    {
     "data": {
      "text/plain": [
       "['particularly',\n",
       " 'important',\n",
       " 'today',\n",
       " 'world',\n",
       " 'swamped',\n",
       " 'unstructured',\n",
       " 'natural',\n",
       " 'language',\n",
       " 'data',\n",
       " 'variety',\n",
       " 'social',\n",
       " 'media',\n",
       " 'platforms',\n",
       " 'people',\n",
       " 'engage',\n",
       " 'days',\n",
       " 'note',\n",
       " 'days',\n",
       " 'decade',\n",
       " '2010',\n",
       " '2020']"
      ]
     },
     "execution_count": 14,
     "metadata": {},
     "output_type": "execute_result"
    }
   ],
   "source": [
    "preprocess(sentence2)"
   ]
  },
  {
   "cell_type": "markdown",
   "metadata": {},
   "source": [
    "## Tagging"
   ]
  },
  {
   "cell_type": "code",
   "execution_count": 15,
   "metadata": {},
   "outputs": [
    {
     "name": "stdout",
     "output_type": "stream",
     "text": [
      "[('big', 'JJ'), ('brown', 'NN'), ('fox', 'NN'), ('jumped', 'VBD'), ('lazy', 'JJ'), ('dog', 'NN')]\n"
     ]
    }
   ],
   "source": [
    "tags = nltk.pos_tag(preprocessed_sentence)\n",
    "print(tags)"
   ]
  },
  {
   "cell_type": "code",
   "execution_count": 16,
   "metadata": {},
   "outputs": [
    {
     "name": "stdout",
     "output_type": "stream",
     "text": [
      "[('particularly', 'RB'), ('important', 'JJ'), ('today', 'NN'), ('world', 'NN'), ('swamped', 'VBD'), ('unstructured', 'JJ'), ('natural', 'JJ'), ('language', 'NN'), ('data', 'NNS'), ('variety', 'NN'), ('social', 'JJ'), ('media', 'NNS'), ('platforms', 'NNS'), ('people', 'NNS'), ('engage', 'VBP'), ('days', 'NNS'), ('note', 'VBP'), ('days', 'NNS'), ('decade', 'NN'), ('2010', 'CD'), ('2020', 'CD')]\n"
     ]
    }
   ],
   "source": [
    "tags = nltk.pos_tag(preprocess(sentence2))\n",
    "print(tags)"
   ]
  },
  {
   "cell_type": "markdown",
   "metadata": {},
   "source": [
    "## Extracting only Nouns and Verb nouns"
   ]
  },
  {
   "cell_type": "raw",
   "metadata": {},
   "source": [
    "POS tag list:\n",
    "\n",
    "CC coordinating conjunction\n",
    "CD cardinal digit\n",
    "DT determiner\n",
    "EX existential there (like: \"there is\" ... think of it like \"there exists\")\n",
    "FW foreign word\n",
    "IN preposition/subordinating conjunction\n",
    "JJ adjective 'big'\n",
    "JJR adjective, comparative 'bigger'\n",
    "JJS adjective, superlative 'biggest'\n",
    "LS list marker 1)\n",
    "MD modal could, will\n",
    "NN noun, singular 'desk'\n",
    "NNS noun plural 'desks'\n",
    "NNP proper noun, singular 'Harrison'\n",
    "NNPS proper noun, plural 'Americans'\n",
    "PDT predeterminer 'all the kids'\n",
    "POS possessive ending parent's\n",
    "PRP personal pronoun I, he, she\n",
    "PRP$ possessive pronoun my, his, hers\n",
    "RB adverb very, silently,\n",
    "RBR adverb, comparative better\n",
    "RBS adverb, superlative best\n",
    "RP particle give up\n",
    "TO to go 'to' the store.\n",
    "UH interjection errrrrrrrm\n",
    "VB verb, base form take\n",
    "VBD verb, past tense took\n",
    "VBG verb, gerund/present participle taking\n",
    "VBN verb, past participle taken\n",
    "VBP verb, sing. present, non-3d take\n",
    "VBZ verb, 3rd person sing. present takes\n",
    "WDT wh-determiner which\n",
    "WP wh-pronoun who, what\n",
    "WP$ possessive wh-pronoun whose\n",
    "WRB wh-abverb where, when"
   ]
  },
  {
   "cell_type": "code",
   "execution_count": 17,
   "metadata": {},
   "outputs": [],
   "source": [
    "def extract_tagged(sentences):\n",
    "    features = []\n",
    "    for tagged_word in sentences:\n",
    "        word, tag = tagged_word\n",
    "        if tag=='NN' or tag == 'VBN' or tag == 'NNS' or tag == 'VBP' or tag == 'RB' or tag == 'VBZ' or tag == 'VBG' or tag =='PRP' or tag == 'JJ':\n",
    "            features.append(word)\n",
    "    return features"
   ]
  },
  {
   "cell_type": "code",
   "execution_count": 18,
   "metadata": {},
   "outputs": [
    {
     "data": {
      "text/plain": [
       "['particularly',\n",
       " 'important',\n",
       " 'today',\n",
       " 'world',\n",
       " 'unstructured',\n",
       " 'natural',\n",
       " 'language',\n",
       " 'data',\n",
       " 'variety',\n",
       " 'social',\n",
       " 'media',\n",
       " 'platforms',\n",
       " 'people',\n",
       " 'engage',\n",
       " 'days',\n",
       " 'note',\n",
       " 'days',\n",
       " 'decade']"
      ]
     },
     "execution_count": 18,
     "metadata": {},
     "output_type": "execute_result"
    }
   ],
   "source": [
    "extract_tagged(tags)"
   ]
  },
  {
   "cell_type": "markdown",
   "metadata": {},
   "source": [
    "## Lemmatize words"
   ]
  },
  {
   "cell_type": "code",
   "execution_count": 20,
   "metadata": {},
   "outputs": [
    {
     "name": "stdout",
     "output_type": "stream",
     "text": [
      "cactus\n",
      "willing\n",
      "foot\n",
      "stemmed\n",
      "cactus\n"
     ]
    }
   ],
   "source": [
    "lmtzr = WordNetLemmatizer()\n",
    "print(lmtzr.lemmatize('cacti'))\n",
    "print(lmtzr.lemmatize('willing'))\n",
    "print(lmtzr.lemmatize('feet'))\n",
    "print(lmtzr.lemmatize('stemmed'))\n",
    "\n",
    "print(lmtzr.lemmatize('cactus'))"
   ]
  },
  {
   "cell_type": "code",
   "execution_count": null,
   "metadata": {},
   "outputs": [],
   "source": []
  },
  {
   "cell_type": "code",
   "execution_count": null,
   "metadata": {},
   "outputs": [],
   "source": []
  },
  {
   "cell_type": "markdown",
   "metadata": {},
   "source": [
    "## Stem words"
   ]
  },
  {
   "cell_type": "code",
   "execution_count": 21,
   "metadata": {},
   "outputs": [],
   "source": [
    "words_for_stemming = ['stem', 'stemming', 'stemmed', 'stemmer', 'stems','feet','willing']"
   ]
  },
  {
   "cell_type": "code",
   "execution_count": 22,
   "metadata": {},
   "outputs": [
    {
     "data": {
      "text/plain": [
       "['stem', 'stem', 'stem', 'stemmer', 'stem', 'feet', 'will']"
      ]
     },
     "execution_count": 22,
     "metadata": {},
     "output_type": "execute_result"
    }
   ],
   "source": [
    "stemmer = SnowballStemmer(\"english\")\n",
    "[stemmer.stem(x) for x in words_for_stemming]"
   ]
  },
  {
   "cell_type": "markdown",
   "metadata": {},
   "source": [
    "## Putting it all together"
   ]
  },
  {
   "cell_type": "code",
   "execution_count": 31,
   "metadata": {},
   "outputs": [],
   "source": [
    "def extract_feature(text):\n",
    "    words = preprocess(text)\n",
    "#     print('words: ',words)\n",
    "    tags = nltk.pos_tag(words)\n",
    "#     print('tags: ',tags)\n",
    "    extracted_features = extract_tagged(tags)\n",
    "#     print('Extracted features: ',extracted_features)\n",
    "    stemmed_words = [stemmer.stem(x) for x in extracted_features]\n",
    "#     print(stemmed_words)\n",
    "\n",
    "    result = [lmtzr.lemmatize(x) for x in stemmed_words]\n",
    "   \n",
    "    return result"
   ]
  },
  {
   "cell_type": "code",
   "execution_count": 24,
   "metadata": {},
   "outputs": [
    {
     "data": {
      "text/plain": [
       "'The Big brown fox jumped over a lazy dog.'"
      ]
     },
     "execution_count": 24,
     "metadata": {},
     "output_type": "execute_result"
    }
   ],
   "source": [
    "sentence"
   ]
  },
  {
   "cell_type": "code",
   "execution_count": 25,
   "metadata": {},
   "outputs": [
    {
     "name": "stdout",
     "output_type": "stream",
     "text": [
      "['big', 'brown', 'fox', 'lazi', 'dog']\n"
     ]
    }
   ],
   "source": [
    "words = extract_feature(sentence)\n",
    "print(words)"
   ]
  },
  {
   "cell_type": "code",
   "execution_count": 26,
   "metadata": {},
   "outputs": [
    {
     "name": "stdout",
     "output_type": "stream",
     "text": [
      "['particular', 'import', 'today', 'world', 'unstructur', 'natur', 'languag', 'data', 'varieti', 'social', 'medium', 'platform', 'peopl', 'engag', 'day', 'note', 'day', 'decad']\n"
     ]
    }
   ],
   "source": [
    "words = extract_feature(sentence2)\n",
    "print(words)"
   ]
  },
  {
   "cell_type": "code",
   "execution_count": 29,
   "metadata": {},
   "outputs": [
    {
     "name": "stdout",
     "output_type": "stream",
     "text": [
      "words:  ['hurt', 'right', 'foot', 'wearing', 'white', 'shoes', 'feet']\n",
      "tags:  [('hurt', 'NN'), ('right', 'JJ'), ('foot', 'NN'), ('wearing', 'VBG'), ('white', 'JJ'), ('shoes', 'NNS'), ('feet', 'NNS')]\n",
      "Extracted features:  ['hurt', 'right', 'foot', 'wearing', 'white', 'shoes', 'feet']\n",
      "['hurt', 'right', 'foot', 'wear', 'white', 'shoe', 'feet']\n"
     ]
    },
    {
     "data": {
      "text/plain": [
       "['hurt', 'right', 'foot', 'wear', 'white', 'shoe', 'foot']"
      ]
     },
     "execution_count": 29,
     "metadata": {},
     "output_type": "execute_result"
    }
   ],
   "source": [
    "extract_feature(\"He hurt his right foot while he was wearing white shoes on his feet\")"
   ]
  },
  {
   "cell_type": "markdown",
   "metadata": {},
   "source": [
    "## Implementing bag of words"
   ]
  },
  {
   "cell_type": "markdown",
   "metadata": {},
   "source": [
    "In simple terms, it’s a collection of words to represent a sentence, disregarding the order in which they appear."
   ]
  },
  {
   "cell_type": "code",
   "execution_count": 32,
   "metadata": {},
   "outputs": [],
   "source": [
    "def word_feats(words):\n",
    "    return dict([(word, True) for word in words])"
   ]
  },
  {
   "cell_type": "code",
   "execution_count": 33,
   "metadata": {},
   "outputs": [
    {
     "data": {
      "text/plain": [
       "{'particular': True,\n",
       " 'import': True,\n",
       " 'today': True,\n",
       " 'world': True,\n",
       " 'unstructur': True,\n",
       " 'natur': True,\n",
       " 'languag': True,\n",
       " 'data': True,\n",
       " 'varieti': True,\n",
       " 'social': True,\n",
       " 'medium': True,\n",
       " 'platform': True,\n",
       " 'peopl': True,\n",
       " 'engag': True,\n",
       " 'day': True,\n",
       " 'note': True,\n",
       " 'decad': True}"
      ]
     },
     "execution_count": 33,
     "metadata": {},
     "output_type": "execute_result"
    }
   ],
   "source": [
    "word_feats(words)"
   ]
  },
  {
   "cell_type": "markdown",
   "metadata": {},
   "source": [
    "## Parsing the whole document"
   ]
  },
  {
   "cell_type": "code",
   "execution_count": 34,
   "metadata": {},
   "outputs": [],
   "source": [
    "def extract_feature_from_doc(data):\n",
    "    result = []\n",
    "    corpus = []\n",
    "    # The responses of the chat bot\n",
    "    answers = {}\n",
    "    for (text,category,answer) in data:\n",
    "\n",
    "        features = extract_feature(text)\n",
    "\n",
    "        corpus.append(features)\n",
    "        result.append((word_feats(features), category))\n",
    "        answers[category] = answer\n",
    "\n",
    "    return (result, sum(corpus,[]), answers)"
   ]
  },
  {
   "cell_type": "code",
   "execution_count": 36,
   "metadata": {},
   "outputs": [
    {
     "data": {
      "text/plain": [
       "([({'input': True, 'user': True}, 'category')],\n",
       " ['input', 'user'],\n",
       " {'category': 'answer to give'})"
      ]
     },
     "execution_count": 36,
     "metadata": {},
     "output_type": "execute_result"
    }
   ],
   "source": [
    "extract_feature_from_doc([['this is the input text from the user','category','answer to give']])"
   ]
  },
  {
   "cell_type": "code",
   "execution_count": 38,
   "metadata": {},
   "outputs": [],
   "source": [
    "def get_content(filename):\n",
    "    doc = os.path.join(filename)\n",
    "    with open(doc, 'r') as content_file:\n",
    "        lines = csv.reader(content_file,delimiter='|')\n",
    "        data = [x for x in lines if len(x) == 3]\n",
    "        return data"
   ]
  },
  {
   "cell_type": "code",
   "execution_count": 39,
   "metadata": {},
   "outputs": [],
   "source": [
    "filename = '/Users/shraddhasurana/Desktop/projects/leaves.txt'\n",
    "data = get_content(filename)"
   ]
  },
  {
   "cell_type": "code",
   "execution_count": 40,
   "metadata": {},
   "outputs": [
    {
     "data": {
      "text/plain": [
       "[['Hello',\n",
       "  'Greetings',\n",
       "  'Hello. I am Dexter. I will serve your leave enquiries.'],\n",
       " ['hi hello',\n",
       "  'Greetings',\n",
       "  'Hello. I am Dexter. I will serve your leave enquiries.'],\n",
       " ['hi ',\n",
       "  'Greetings',\n",
       "  'Hello. I am Dexter. I will serve your leave enquiries.'],\n",
       " ['hi', 'Greetings', 'Hello. I am Dexter. I will serve your leave enquiries.'],\n",
       " ['hi', 'Greetings', 'Hello. I am Dexter. I will serve your leave enquiries.'],\n",
       " ['hey',\n",
       "  'Greetings',\n",
       "  'Hello. I am Dexter. I will serve your leave enquiries.'],\n",
       " ['hello, hi',\n",
       "  'Greetings',\n",
       "  'Hello. I am Dexter. I will serve your leave enquiries.'],\n",
       " ['hey',\n",
       "  'Greetings',\n",
       "  'Hello. I am Dexter. I will serve your leave enquiries.'],\n",
       " ['hey, hi',\n",
       "  'Greetings',\n",
       "  'Hello. I am Dexter. I will serve your leave enquiries.'],\n",
       " ['hey, hello',\n",
       "  'Greetings',\n",
       "  'Hello. I am Dexter. I will serve your leave enquiries.'],\n",
       " ['Good morning',\n",
       "  'Morning',\n",
       "  'Good Morning. I am Dexter. I will serve your leave enquiries.'],\n",
       " ['Good afternoon',\n",
       "  'Afternoon',\n",
       "  'Good afternoon. I am Dexter. I will serve your leave enquiries.'],\n",
       " ['Good evening',\n",
       "  'Evening',\n",
       "  'Good evening. I am Dexter. I will serve your leave enquiries.'],\n",
       " ['Good night', 'Goodbye', 'Good night. Take care.'],\n",
       " ['How are you today?', 'Opening', \"I'm fine! Thank you. How can I help you?\"],\n",
       " ['want help', 'Help', 'How can I help you?'],\n",
       " ['need help', 'Help', 'How can I help you?'],\n",
       " ['help me', 'Help', 'How can I help you?'],\n",
       " [\"I don't want your help.\",\n",
       "  'No-Help',\n",
       "  'Ok sir/madam. No problem. Have a nice day.'],\n",
       " [\"I don't want your assistance\",\n",
       "  'No-Help',\n",
       "  'Ok sir/madam. No problem. Have a nice day.'],\n",
       " ['No help required', 'No-Help', 'Ok sir/madam. No problem. Have a nice day.'],\n",
       " ['It has been great talking to you.',\n",
       "  'Closing',\n",
       "  \"It's glad to know that I have been helpful. Have a good day!\"],\n",
       " ['great',\n",
       "  'Closing',\n",
       "  \"It's glad to know that I have been helpful. Have a good day!\"],\n",
       " ['thank you for your help',\n",
       "  'Closing',\n",
       "  \"It's glad to know that I have been helpful. Have a good day!\"],\n",
       " ['thank you',\n",
       "  'Closing',\n",
       "  \"It's glad to know that I have been helpful. Have a good day!\"],\n",
       " ['thank you very much',\n",
       "  'Closing',\n",
       "  \"It's glad to know that I have been helpful. Have a good day!\"],\n",
       " ['thanks.',\n",
       "  'Closing',\n",
       "  \"You're welcome!It's glad to know that I have been helpful. Have a good day!\"],\n",
       " ['thanks very much',\n",
       "  'Closing',\n",
       "  \"It's glad to know that I have been helpful. Have a good day!\"],\n",
       " ['How many types of leaves are there?',\n",
       "  'Leaves-Type',\n",
       "  'Currently I know about two: annual and optional leaves.'],\n",
       " ['types of leaves?',\n",
       "  'Leaves-Type',\n",
       "  'Currently I know about two: annual and optional leaves.'],\n",
       " ['type leaves?',\n",
       "  'Leaves-Type',\n",
       "  'Currently I know about two: annual and optional leaves.'],\n",
       " ['leave type?',\n",
       "  'Leaves-Type',\n",
       "  'Currently I know about two: annual and optional leaves.'],\n",
       " ['leaves type?',\n",
       "  'Leaves-Type',\n",
       "  'Currently I know about two: annual and optional leaves.'],\n",
       " ['How many leaves have I taken?',\n",
       "  'Default-Utilized-Annual-Leaves',\n",
       "  'You have used 12 annual leaves.'],\n",
       " ['How many leaves I have already taken?',\n",
       "  'Default-Utilized-Annual-Leaves',\n",
       "  'You have used 12 annual leaves.'],\n",
       " ['how many annual leaves I took?',\n",
       "  'Utilized-Annual-Leaves',\n",
       "  'You have taken 12 annual leaves.'],\n",
       " ['How many annual leaves have I taken?',\n",
       "  'Utilized-Annual-Leaves',\n",
       "  'You have taken 12 annual leaves.'],\n",
       " ['How many annual leaves I have already taken?',\n",
       "  'Utilized-Annual-Leaves',\n",
       "  'You have taken 12 annual leaves.'],\n",
       " ['Tell me the annual leaves count I have taken?',\n",
       "  'Utilized-Annual-Leaves',\n",
       "  'You have taken 12 annual leaves.'],\n",
       " ['How many annual leaves have I taken?',\n",
       "  'Utilized-Annual-Leaves',\n",
       "  'You have taken 12 annual leaves.'],\n",
       " ['number of annual leaves taken?',\n",
       "  'Utilized-Annual-Leaves',\n",
       "  'You have taken 12 annual leaves.'],\n",
       " ['annual leaves taken?',\n",
       "  'Utilized-Annual-Leaves',\n",
       "  'You have taken 12 annual leaves.'],\n",
       " ['number of annual leaves already taken?',\n",
       "  'Utilized-Annual-Leaves',\n",
       "  'You have taken 12 annual leaves.'],\n",
       " ['annual leaves taken?',\n",
       "  'Utilized-Annual-Leaves',\n",
       "  'You have taken 12 annual leaves.'],\n",
       " ['annual leaves already taken?',\n",
       "  'Utilized-Annual-Leaves',\n",
       "  'You have taken 12 annual leaves.'],\n",
       " ['Tell me number of annual leaves I have taken',\n",
       "  'Utilized-Annual-Leaves',\n",
       "  'You have taken 12 annual leaves.'],\n",
       " ['number of annual leaves used?',\n",
       "  'Utilized-Annual-Leaves',\n",
       "  'You have taken 12 annual leaves.'],\n",
       " ['my taken annual leaves',\n",
       "  'Utilized-Annual-Leaves',\n",
       "  'You have taken 12 annual leaves.'],\n",
       " ['annual leaves used?',\n",
       "  'Utilized-Annual-Leaves',\n",
       "  'You have taken 12 annual leaves.'],\n",
       " ['How many optional leaves have I taken',\n",
       "  'Utilized-Optional-Leaves',\n",
       "  'You have taken 1 optional leaves.'],\n",
       " ['How many optional leaves I took',\n",
       "  'Utilized-Optional-Leaves',\n",
       "  'You have taken 1 optional leaves.'],\n",
       " ['optional leaves taken',\n",
       "  'Utilized-Optional-Leaves',\n",
       "  'You have taken 1 optional leaves.'],\n",
       " ['number of optional leaves I have taken?',\n",
       "  'Utilized-Optional-Leaves',\n",
       "  'You have taken 1 optional leaves.'],\n",
       " ['tell me the optional leaves count I have taken',\n",
       "  'Utilized-Optional-Leaves',\n",
       "  'You have taken 1 optional leaves.'],\n",
       " ['tell me number of optional leaves I have taken',\n",
       "  'Utilized-Optional-Leaves',\n",
       "  'You have taken 1 optional leaves.'],\n",
       " ['can you tell me number of optional leaves I have taken',\n",
       "  'Utilized-Optional-Leaves',\n",
       "  'You have taken 1 optional leaves.'],\n",
       " ['please tell me number of optional leaves I have taken',\n",
       "  'Utilized-Optional-Leaves',\n",
       "  'You have taken 1 optional leaves.'],\n",
       " ['How many optional leaves have I taken?',\n",
       "  'Utilized-Optional-Leaves',\n",
       "  'You have taken 1 optional leaves.'],\n",
       " ['number of optional leaves taken?',\n",
       "  'Utilized-Optional-Leaves',\n",
       "  'You have taken 1 optional leaves.'],\n",
       " ['number of optional leaves already taken?',\n",
       "  'Utilized-Optional-Leaves',\n",
       "  'You have taken 1 optional leaves.'],\n",
       " ['optional leaves taken?',\n",
       "  'Utilized-Optional-Leaves',\n",
       "  'You have taken 1 optional leaves.'],\n",
       " ['optional leaves already taken?',\n",
       "  'Utilized-Optional-Leaves',\n",
       "  'You have taken 1 optional leaves.'],\n",
       " ['please tell me number of optional leaves I have used.',\n",
       "  'Utilized-Optional-Leaves',\n",
       "  'You have taken 1 optional leaves.'],\n",
       " ['please tell me number of optional leaves I have used',\n",
       "  'Utilized-Optional-Leaves',\n",
       "  'You have taken 1 optional leaves.'],\n",
       " ['tell me the optional leaves count I have used.',\n",
       "  'Utilized-Optional-Leaves',\n",
       "  'You have taken 1 optional leaves.'],\n",
       " ['tell me the optional leaves count I have used',\n",
       "  'Utilized-Optional-Leaves',\n",
       "  'You have taken 1 optional leaves.'],\n",
       " ['the optional leaves count I have used',\n",
       "  'Utilized-Optional-Leaves',\n",
       "  'You have taken 1 optional leaves.'],\n",
       " ['the optional leaves count I have used?',\n",
       "  'Utilized-Optional-Leaves',\n",
       "  'You have taken 1 optional leaves.'],\n",
       " ['tell me the optional leaves count I have taken',\n",
       "  'Utilized-Optional-Leaves',\n",
       "  'You have taken 1 optional leaves.'],\n",
       " ['tell me the optional leaves count I have taken',\n",
       "  'Utilized-Optional-Leaves',\n",
       "  'You have taken 1 optional leaves.'],\n",
       " ['tell me the optional leaves count I have taken',\n",
       "  'Utilized-Optional-Leaves',\n",
       "  'You have taken 1 optional leaves.'],\n",
       " ['How many optional leaves have I used',\n",
       "  'Utilized-Optional-Leaves',\n",
       "  'You have taken 1 optional leaves.'],\n",
       " ['How many optional leaves have I used?',\n",
       "  'Utilized-Optional-Leaves',\n",
       "  'You have taken 1 optional leaves.'],\n",
       " ['number of optional leaves used?',\n",
       "  'Utilized-Optional-Leaves',\n",
       "  'You have taken 1 optional leaves.'],\n",
       " ['optional leaves used?',\n",
       "  'Utilized-Optional-Leaves',\n",
       "  'You have taken 1 optional leaves.'],\n",
       " ['How many leaves do I have?',\n",
       "  'Default-Balance-Annual-Leaves',\n",
       "  'You have 25 annual leaves left.'],\n",
       " ['How many leaves can I take?',\n",
       "  'Default-Balance-Annual-Leaves',\n",
       "  'You have 25 annual leaves left.'],\n",
       " ['How many leaves are remaining?',\n",
       "  'Default-Balance-Annual-Leaves',\n",
       "  'You have 25 annual leaves left.'],\n",
       " ['remaining leaves.',\n",
       "  'Default-Balance-Annual-Leaves',\n",
       "  'You have 25 annual leaves left.'],\n",
       " ['What are my leaves?',\n",
       "  'Default-Balance-Annual-Leaves',\n",
       "  'You have 25 annual leaves left.'],\n",
       " ['Tell me my leave balance.',\n",
       "  'Default-Balance-Annual-Leaves',\n",
       "  'You have 25 annual leaves left.'],\n",
       " ['my remaining leaves.',\n",
       "  'Default-Balance-Annual-Leaves',\n",
       "  'You have 25 annual leaves left.'],\n",
       " ['leave balance.',\n",
       "  'Default-Balance-Annual-Leaves',\n",
       "  'You have 25 annual leaves left.'],\n",
       " ['leaves pending.',\n",
       "  'Default-Balance-Annual-Leaves',\n",
       "  'You have 25 annual leaves left.'],\n",
       " ['tell me the annual leaves count I have remaining',\n",
       "  'Balance-Annual-Leaves',\n",
       "  'You have 25 annual leaves remaining.'],\n",
       " ['How many annual leaves do I have?',\n",
       "  'Balance-Annual-Leaves',\n",
       "  'You have 25 annual leaves remaining.'],\n",
       " ['What are my annual leaves?',\n",
       "  'Balance-Annual-Leaves',\n",
       "  'You have 25 annual leaves remaining.'],\n",
       " ['What is my annual leave balance?',\n",
       "  'Balance-Annual-Leaves',\n",
       "  'You have 25 annual leaves remaining.'],\n",
       " ['Tell me my annual leaves.',\n",
       "  'Balance-Annual-Leaves',\n",
       "  'You have 25 annual leaves remaining.'],\n",
       " ['How many annual leaves are remaining?',\n",
       "  'Balance-Annual-Leaves',\n",
       "  'You have 25 annual leaves remaining.'],\n",
       " ['Tell me my annual leaves remaining',\n",
       "  'Balance-Annual-Leaves',\n",
       "  'You have 25 annual leaves remaining.'],\n",
       " ['remaining annual leaves.',\n",
       "  'Balance-Annual-Leaves',\n",
       "  'You have 25 annual leaves remaining.'],\n",
       " ['annual leaves remaining.',\n",
       "  'Balance-Annual-Leaves',\n",
       "  'You have 25 annual leaves remaining.'],\n",
       " ['number of annual leaves remaining.',\n",
       "  'Balance-Annual-Leaves',\n",
       "  'You have 25 annual leaves remaining.'],\n",
       " ['number of annual leaves I have?',\n",
       "  'Balance-Annual-Leaves',\n",
       "  'You have 25 annual leaves remaining.'],\n",
       " ['annual leaves remaining.',\n",
       "  'Balance-Annual-Leaves',\n",
       "  'You have 25 annual leaves remaining.'],\n",
       " ['Please tell me the annual leaves count I have remaining.',\n",
       "  'Balance-Annual-Leaves',\n",
       "  'You have 25 annual leaves remaining.'],\n",
       " ['Tell me the annual leaves count I have remaining.',\n",
       "  'Balance-Annual-Leaves',\n",
       "  'You have 25 annual leaves remaining.'],\n",
       " ['the annual leaves count I have remaining.',\n",
       "  'Balance-Annual-Leaves',\n",
       "  'You have 25 annual leaves remaining.'],\n",
       " ['my annual leaves count remaining.',\n",
       "  'Balance-Annual-Leaves',\n",
       "  'You have 25 annual leaves remaining.'],\n",
       " ['Tell me my annual leave balance.',\n",
       "  'Balance-Annual-Leaves',\n",
       "  'You have 25 annual leaves remaining.'],\n",
       " ['annual leave balance.',\n",
       "  'Balance-Annual-Leaves',\n",
       "  'You have 25 annual leaves remaining.'],\n",
       " ['annual leaves.',\n",
       "  'Balance-Annual-Leaves',\n",
       "  'You have 25 annual leaves remaining.'],\n",
       " ['can you tell me number of annual leaves I have remaining',\n",
       "  'Balance-Annual-Leaves',\n",
       "  'You have 25 annual leaves remaining.'],\n",
       " ['please tell me number of annual leaves I have remaining',\n",
       "  'Balance-Annual-Leaves',\n",
       "  'You have 25 annual leaves remaining.'],\n",
       " ['How many optional leaves are remaining?',\n",
       "  'Balance-Optional-Leaves',\n",
       "  'You have 2 optional leaves remaining.'],\n",
       " ['optional leaves remaining?',\n",
       "  'Balance-Optional-Leaves',\n",
       "  'You have 2 optional leaves remaining.'],\n",
       " ['number of optional leaves I have remaining?',\n",
       "  'Balance-Optional-Leaves',\n",
       "  'You have 2 optional leaves remaining.'],\n",
       " ['How many optional leaves do I have?',\n",
       "  'Balance-Optional-Leaves',\n",
       "  'You have 2 optional leaves remaining.'],\n",
       " ['How many optional leaves do I have',\n",
       "  'Balance-Optional-Leaves',\n",
       "  'You have 2 optional leaves remaining.'],\n",
       " ['Tell me my optional leave balance?',\n",
       "  'Balance-Optional-Leaves',\n",
       "  'You have 2 optional leaves remaining.'],\n",
       " ['Tell me my optional leaves left?',\n",
       "  'Balance-Optional-Leaves',\n",
       "  'You have 2 optional leaves remaining.'],\n",
       " ['How many optional leaves can I take?',\n",
       "  'Balance-Optional-Leaves',\n",
       "  'You have 2 optional leaves remaining.'],\n",
       " ['optional leaves take?',\n",
       "  'Balance-Optional-Leaves',\n",
       "  'You have 2 optional leaves remaining.'],\n",
       " ['How many optional leaves I have?',\n",
       "  'Balance-Optional-Leaves',\n",
       "  'You have 2 optional leaves remaining.'],\n",
       " ['Tell me my optional leave balance.',\n",
       "  'Balance-Optional-Leaves',\n",
       "  'You have 2 optional leaves remaining.'],\n",
       " ['tell me the optional leaves count I have remaining',\n",
       "  'Balance-Optional-Leaves',\n",
       "  'You have 2 optional leaves remaining.'],\n",
       " ['optional leaves.',\n",
       "  'Balance-Optional-Leaves',\n",
       "  'You have 2 optional leaves remaining.'],\n",
       " ['optional leaves?',\n",
       "  'Balance-Optional-Leaves',\n",
       "  'You have 2 optional leaves remaining.'],\n",
       " ['optional leave balance',\n",
       "  'Balance-Optional-Leaves',\n",
       "  'You have 2 optional leaves remaining.'],\n",
       " ['optional',\n",
       "  'Balance-Optional-Leaves',\n",
       "  'You have 2 optional leaves remaining.'],\n",
       " ['Tell me the optional leaves count I have remaining.',\n",
       "  'Balance-Optional-Leaves',\n",
       "  'You have 2 optional leaves remaining.'],\n",
       " ['the optional leaves count I have remaining?',\n",
       "  'Balance-Optional-Leaves',\n",
       "  'You have 2 optional leaves remaining.'],\n",
       " ['my optional leaves count remaining.',\n",
       "  'Balance-Optional-Leaves',\n",
       "  'You have 2 optional leaves remaining.'],\n",
       " ['please tell me number of optional leaves I have remaining',\n",
       "  'Balance-Optional-Leaves',\n",
       "  'You have 2 optional leaves remaining.'],\n",
       " ['please tell me number of optional leaves I have remaining.',\n",
       "  'Balance-Optional-Leaves',\n",
       "  'You have 2 optional leaves remaining.'],\n",
       " ['number of optional leaves I have remaining.',\n",
       "  'Balance-Optional-Leaves',\n",
       "  'You have 2 optional leaves remaining.'],\n",
       " ['number of optional leaves I have',\n",
       "  'Balance-Optional-Leaves',\n",
       "  'You have 2 optional leaves remaining.'],\n",
       " ['number of optional leaves?',\n",
       "  'Balance-Optional-Leaves',\n",
       "  'You have 2 optional leaves remaining.'],\n",
       " ['How many carry forward leaves do I have?',\n",
       "  'CF',\n",
       "  'You have 30 carry forward leaves.'],\n",
       " ['number of carry forward leaves I have?',\n",
       "  'CF',\n",
       "  'You have 30 carry forward leaves.'],\n",
       " ['tell me the carry forward leaves count I have',\n",
       "  'CF',\n",
       "  'You have 30 carry forward leaves.'],\n",
       " ['tell me number of carry forward leaves I have',\n",
       "  'CF',\n",
       "  'You have 30 carry forward leaves.'],\n",
       " ['can you tell me number of carry forward leaves I have',\n",
       "  'CF',\n",
       "  'You have 30 carry forward leaves.'],\n",
       " ['please tell me number of carry forward leaves I have',\n",
       "  'CF',\n",
       "  'You have 30 carry forward leaves.'],\n",
       " ['How many carry forwards do I have from previous year?',\n",
       "  'CF',\n",
       "  'You have 30 carry forward leaves.'],\n",
       " ['Tell me my carry forward leaves from previous year',\n",
       "  'CF',\n",
       "  'You have 30 carry forward leaves.'],\n",
       " ['Tell me my carry forward leaves',\n",
       "  'CF',\n",
       "  'You have 30 carry forward leaves.'],\n",
       " ['Tell me carry forward leaves', 'CF', 'You have 30 carry forward leaves.'],\n",
       " ['carry forward leaves', 'CF', 'You have 30 carry forward leaves.'],\n",
       " ['carry forward leave', 'CF', 'You have 30 carry forward leaves.'],\n",
       " ['carry forward', 'CF', 'You have 30 carry forward leaves.'],\n",
       " ['previous year carry forward leaves',\n",
       "  'CF',\n",
       "  'You have 30 carry forward leaves.']]"
      ]
     },
     "execution_count": 40,
     "metadata": {},
     "output_type": "execute_result"
    }
   ],
   "source": [
    "data"
   ]
  },
  {
   "cell_type": "code",
   "execution_count": 41,
   "metadata": {},
   "outputs": [],
   "source": [
    "features_data, corpus, answers = extract_feature_from_doc(data)"
   ]
  },
  {
   "cell_type": "code",
   "execution_count": 42,
   "metadata": {},
   "outputs": [
    {
     "name": "stdout",
     "output_type": "stream",
     "text": [
      "({'mani': True, 'option': True, 'leav': True}, 'Utilized-Optional-Leaves')\n"
     ]
    }
   ],
   "source": [
    "print(features_data[50])"
   ]
  },
  {
   "cell_type": "code",
   "execution_count": 44,
   "metadata": {},
   "outputs": [
    {
     "data": {
      "text/plain": [
       "['hello',\n",
       " 'hi',\n",
       " 'hello',\n",
       " 'hi',\n",
       " 'hi',\n",
       " 'hi',\n",
       " 'hey',\n",
       " 'hello',\n",
       " 'hi',\n",
       " 'hey',\n",
       " 'hey',\n",
       " 'hi',\n",
       " 'hey',\n",
       " 'hello',\n",
       " 'good',\n",
       " 'morn',\n",
       " 'good',\n",
       " 'afternoon',\n",
       " 'good',\n",
       " 'even',\n",
       " 'good',\n",
       " 'night',\n",
       " 'today',\n",
       " 'want',\n",
       " 'help',\n",
       " 'need',\n",
       " 'help',\n",
       " 'help',\n",
       " 'want',\n",
       " 'help',\n",
       " 'want',\n",
       " 'assist',\n",
       " 'help',\n",
       " 'great',\n",
       " 'talk',\n",
       " 'great',\n",
       " 'thank',\n",
       " 'help',\n",
       " 'thank',\n",
       " 'thank',\n",
       " 'much',\n",
       " 'thank',\n",
       " 'thank',\n",
       " 'much',\n",
       " 'mani',\n",
       " 'type',\n",
       " 'leav',\n",
       " 'type',\n",
       " 'leav',\n",
       " 'type',\n",
       " 'leav',\n",
       " 'type',\n",
       " 'leav',\n",
       " 'type',\n",
       " 'mani',\n",
       " 'leav',\n",
       " 'taken',\n",
       " 'mani',\n",
       " 'leav',\n",
       " 'alreadi',\n",
       " 'taken',\n",
       " 'mani',\n",
       " 'annual',\n",
       " 'leav',\n",
       " 'mani',\n",
       " 'annual',\n",
       " 'leav',\n",
       " 'taken',\n",
       " 'mani',\n",
       " 'annual',\n",
       " 'leav',\n",
       " 'alreadi',\n",
       " 'taken',\n",
       " 'annual',\n",
       " 'leav',\n",
       " 'count',\n",
       " 'taken',\n",
       " 'mani',\n",
       " 'annual',\n",
       " 'leav',\n",
       " 'taken',\n",
       " 'number',\n",
       " 'annual',\n",
       " 'leav',\n",
       " 'taken',\n",
       " 'annual',\n",
       " 'leav',\n",
       " 'taken',\n",
       " 'number',\n",
       " 'annual',\n",
       " 'leav',\n",
       " 'alreadi',\n",
       " 'taken',\n",
       " 'annual',\n",
       " 'leav',\n",
       " 'taken',\n",
       " 'annual',\n",
       " 'leav',\n",
       " 'alreadi',\n",
       " 'taken',\n",
       " 'number',\n",
       " 'annual',\n",
       " 'leav',\n",
       " 'taken',\n",
       " 'number',\n",
       " 'annual',\n",
       " 'leav',\n",
       " 'taken',\n",
       " 'annual',\n",
       " 'leav',\n",
       " 'annual',\n",
       " 'leav',\n",
       " 'mani',\n",
       " 'option',\n",
       " 'leav',\n",
       " 'taken',\n",
       " 'mani',\n",
       " 'option',\n",
       " 'leav',\n",
       " 'option',\n",
       " 'leav',\n",
       " 'taken',\n",
       " 'number',\n",
       " 'option',\n",
       " 'leav',\n",
       " 'taken',\n",
       " 'option',\n",
       " 'leav',\n",
       " 'count',\n",
       " 'taken',\n",
       " 'number',\n",
       " 'option',\n",
       " 'leav',\n",
       " 'taken',\n",
       " 'number',\n",
       " 'option',\n",
       " 'leav',\n",
       " 'taken',\n",
       " 'number',\n",
       " 'option',\n",
       " 'leav',\n",
       " 'taken',\n",
       " 'mani',\n",
       " 'option',\n",
       " 'leav',\n",
       " 'taken',\n",
       " 'number',\n",
       " 'option',\n",
       " 'leav',\n",
       " 'taken',\n",
       " 'number',\n",
       " 'option',\n",
       " 'leav',\n",
       " 'alreadi',\n",
       " 'taken',\n",
       " 'option',\n",
       " 'leav',\n",
       " 'taken',\n",
       " 'option',\n",
       " 'leav',\n",
       " 'alreadi',\n",
       " 'taken',\n",
       " 'number',\n",
       " 'option',\n",
       " 'leav',\n",
       " 'number',\n",
       " 'option',\n",
       " 'leav',\n",
       " 'option',\n",
       " 'leav',\n",
       " 'count',\n",
       " 'use',\n",
       " 'option',\n",
       " 'leav',\n",
       " 'count',\n",
       " 'use',\n",
       " 'option',\n",
       " 'leav',\n",
       " 'count',\n",
       " 'use',\n",
       " 'option',\n",
       " 'leav',\n",
       " 'count',\n",
       " 'use',\n",
       " 'option',\n",
       " 'leav',\n",
       " 'count',\n",
       " 'taken',\n",
       " 'option',\n",
       " 'leav',\n",
       " 'count',\n",
       " 'taken',\n",
       " 'option',\n",
       " 'leav',\n",
       " 'count',\n",
       " 'taken',\n",
       " 'mani',\n",
       " 'option',\n",
       " 'leav',\n",
       " 'mani',\n",
       " 'option',\n",
       " 'leav',\n",
       " 'number',\n",
       " 'option',\n",
       " 'leav',\n",
       " 'option',\n",
       " 'leav',\n",
       " 'mani',\n",
       " 'leav',\n",
       " 'mani',\n",
       " 'leav',\n",
       " 'take',\n",
       " 'mani',\n",
       " 'leav',\n",
       " 'remain',\n",
       " 'remain',\n",
       " 'leav',\n",
       " 'leav',\n",
       " 'tell',\n",
       " 'leav',\n",
       " 'balanc',\n",
       " 'remain',\n",
       " 'leav',\n",
       " 'leav',\n",
       " 'balanc',\n",
       " 'leav',\n",
       " 'pend',\n",
       " 'annual',\n",
       " 'leav',\n",
       " 'count',\n",
       " 'remain',\n",
       " 'mani',\n",
       " 'annual',\n",
       " 'leav',\n",
       " 'annual',\n",
       " 'leav',\n",
       " 'annual',\n",
       " 'leav',\n",
       " 'balanc',\n",
       " 'annual',\n",
       " 'leav',\n",
       " 'mani',\n",
       " 'annual',\n",
       " 'leav',\n",
       " 'remain',\n",
       " 'annual',\n",
       " 'leav',\n",
       " 'remain',\n",
       " 'remain',\n",
       " 'annual',\n",
       " 'leav',\n",
       " 'annual',\n",
       " 'leav',\n",
       " 'remain',\n",
       " 'number',\n",
       " 'annual',\n",
       " 'leav',\n",
       " 'remain',\n",
       " 'number',\n",
       " 'annual',\n",
       " 'leav',\n",
       " 'annual',\n",
       " 'leav',\n",
       " 'remain',\n",
       " 'annual',\n",
       " 'leav',\n",
       " 'count',\n",
       " 'remain',\n",
       " 'annual',\n",
       " 'leav',\n",
       " 'count',\n",
       " 'remain',\n",
       " 'annual',\n",
       " 'leav',\n",
       " 'count',\n",
       " 'remain',\n",
       " 'annual',\n",
       " 'leav',\n",
       " 'count',\n",
       " 'remain',\n",
       " 'annual',\n",
       " 'leav',\n",
       " 'balanc',\n",
       " 'annual',\n",
       " 'leav',\n",
       " 'balanc',\n",
       " 'annual',\n",
       " 'leav',\n",
       " 'number',\n",
       " 'annual',\n",
       " 'leav',\n",
       " 'remain',\n",
       " 'number',\n",
       " 'annual',\n",
       " 'leav',\n",
       " 'remain',\n",
       " 'mani',\n",
       " 'option',\n",
       " 'leav',\n",
       " 'remain',\n",
       " 'option',\n",
       " 'leav',\n",
       " 'remain',\n",
       " 'number',\n",
       " 'option',\n",
       " 'leav',\n",
       " 'remain',\n",
       " 'mani',\n",
       " 'option',\n",
       " 'leav',\n",
       " 'mani',\n",
       " 'option',\n",
       " 'leav',\n",
       " 'option',\n",
       " 'leav',\n",
       " 'balanc',\n",
       " 'option',\n",
       " 'leav',\n",
       " 'mani',\n",
       " 'option',\n",
       " 'leav',\n",
       " 'take',\n",
       " 'option',\n",
       " 'leav',\n",
       " 'take',\n",
       " 'mani',\n",
       " 'option',\n",
       " 'leav',\n",
       " 'option',\n",
       " 'leav',\n",
       " 'balanc',\n",
       " 'option',\n",
       " 'leav',\n",
       " 'count',\n",
       " 'remain',\n",
       " 'option',\n",
       " 'leav',\n",
       " 'option',\n",
       " 'leav',\n",
       " 'option',\n",
       " 'leav',\n",
       " 'balanc',\n",
       " 'option',\n",
       " 'option',\n",
       " 'leav',\n",
       " 'count',\n",
       " 'remain',\n",
       " 'option',\n",
       " 'leav',\n",
       " 'count',\n",
       " 'remain',\n",
       " 'option',\n",
       " 'leav',\n",
       " 'count',\n",
       " 'remain',\n",
       " 'number',\n",
       " 'option',\n",
       " 'leav',\n",
       " 'remain',\n",
       " 'number',\n",
       " 'option',\n",
       " 'leav',\n",
       " 'remain',\n",
       " 'number',\n",
       " 'option',\n",
       " 'leav',\n",
       " 'remain',\n",
       " 'number',\n",
       " 'option',\n",
       " 'leav',\n",
       " 'number',\n",
       " 'option',\n",
       " 'leav',\n",
       " 'mani',\n",
       " 'carri',\n",
       " 'forward',\n",
       " 'leav',\n",
       " 'number',\n",
       " 'carri',\n",
       " 'forward',\n",
       " 'leav',\n",
       " 'tell',\n",
       " 'carri',\n",
       " 'forward',\n",
       " 'leav',\n",
       " 'count',\n",
       " 'number',\n",
       " 'forward',\n",
       " 'leav',\n",
       " 'number',\n",
       " 'forward',\n",
       " 'leav',\n",
       " 'number',\n",
       " 'forward',\n",
       " 'leav',\n",
       " 'mani',\n",
       " 'carri',\n",
       " 'forward',\n",
       " 'previous',\n",
       " 'year',\n",
       " 'tell',\n",
       " 'carri',\n",
       " 'forward',\n",
       " 'leav',\n",
       " 'previous',\n",
       " 'year',\n",
       " 'tell',\n",
       " 'carri',\n",
       " 'forward',\n",
       " 'leav',\n",
       " 'tell',\n",
       " 'carri',\n",
       " 'forward',\n",
       " 'leav',\n",
       " 'forward',\n",
       " 'leav',\n",
       " 'carri',\n",
       " 'forward',\n",
       " 'leav',\n",
       " 'carri',\n",
       " 'forward',\n",
       " 'previous',\n",
       " 'year',\n",
       " 'carri',\n",
       " 'forward',\n",
       " 'leav']"
      ]
     },
     "execution_count": 44,
     "metadata": {},
     "output_type": "execute_result"
    }
   ],
   "source": [
    "corpus"
   ]
  },
  {
   "cell_type": "code",
   "execution_count": 45,
   "metadata": {},
   "outputs": [
    {
     "data": {
      "text/plain": [
       "{'Greetings': 'Hello. I am Dexter. I will serve your leave enquiries.',\n",
       " 'Morning': 'Good Morning. I am Dexter. I will serve your leave enquiries.',\n",
       " 'Afternoon': 'Good afternoon. I am Dexter. I will serve your leave enquiries.',\n",
       " 'Evening': 'Good evening. I am Dexter. I will serve your leave enquiries.',\n",
       " 'Goodbye': 'Good night. Take care.',\n",
       " 'Opening': \"I'm fine! Thank you. How can I help you?\",\n",
       " 'Help': 'How can I help you?',\n",
       " 'No-Help': 'Ok sir/madam. No problem. Have a nice day.',\n",
       " 'Closing': \"It's glad to know that I have been helpful. Have a good day!\",\n",
       " 'Leaves-Type': 'Currently I know about two: annual and optional leaves.',\n",
       " 'Default-Utilized-Annual-Leaves': 'You have used 12 annual leaves.',\n",
       " 'Utilized-Annual-Leaves': 'You have taken 12 annual leaves.',\n",
       " 'Utilized-Optional-Leaves': 'You have taken 1 optional leaves.',\n",
       " 'Default-Balance-Annual-Leaves': 'You have 25 annual leaves left.',\n",
       " 'Balance-Annual-Leaves': 'You have 25 annual leaves remaining.',\n",
       " 'Balance-Optional-Leaves': 'You have 2 optional leaves remaining.',\n",
       " 'CF': 'You have 30 carry forward leaves.'}"
      ]
     },
     "execution_count": 45,
     "metadata": {},
     "output_type": "execute_result"
    }
   ],
   "source": [
    "answers"
   ]
  },
  {
   "cell_type": "markdown",
   "metadata": {},
   "source": [
    "# Train a model using these fetures"
   ]
  },
  {
   "cell_type": "code",
   "execution_count": 46,
   "metadata": {},
   "outputs": [],
   "source": [
    "## split data into train and test sets\n",
    "split_ratio = 0.8"
   ]
  },
  {
   "cell_type": "code",
   "execution_count": 133,
   "metadata": {},
   "outputs": [],
   "source": [
    "def split_dataset(data, split_ratio):\n",
    "    random.shuffle(data)\n",
    "    data_length = len(data)\n",
    "    train_split = int(data_length * split_ratio)\n",
    "    return (data[:train_split]), (data[train_split:])"
   ]
  },
  {
   "cell_type": "code",
   "execution_count": 134,
   "metadata": {},
   "outputs": [],
   "source": [
    "training_data, test_data = split_dataset(features_data, split_ratio)"
   ]
  },
  {
   "cell_type": "code",
   "execution_count": 127,
   "metadata": {},
   "outputs": [
    {
     "data": {
      "text/plain": [
       "[({'annual': True, 'leav': True, 'taken': True}, 'Utilized-Annual-Leaves'),\n",
       " ({'option': True, 'leav': True, 'count': True, 'remain': True},\n",
       "  'Balance-Optional-Leaves'),\n",
       " ({'thank': True, 'much': True}, 'Closing'),\n",
       " ({'option': True, 'leav': True, 'taken': True}, 'Utilized-Optional-Leaves'),\n",
       " ({'thank': True, 'help': True}, 'Closing'),\n",
       " ({'mani': True, 'option': True, 'leav': True}, 'Utilized-Optional-Leaves'),\n",
       " ({'number': True, 'option': True, 'leav': True, 'taken': True},\n",
       "  'Utilized-Optional-Leaves'),\n",
       " ({'mani': True, 'leav': True}, 'Default-Balance-Annual-Leaves'),\n",
       " ({'number': True, 'option': True, 'leav': True}, 'Balance-Optional-Leaves'),\n",
       " ({'option': True, 'leav': True, 'count': True, 'remain': True},\n",
       "  'Balance-Optional-Leaves'),\n",
       " ({'carri': True, 'forward': True}, 'CF'),\n",
       " ({'option': True, 'leav': True, 'count': True, 'taken': True},\n",
       "  'Utilized-Optional-Leaves'),\n",
       " ({'good': True, 'night': True}, 'Goodbye'),\n",
       " ({'number': True, 'annual': True, 'leav': True}, 'Balance-Annual-Leaves'),\n",
       " ({'good': True, 'afternoon': True}, 'Afternoon'),\n",
       " ({'mani': True, 'annual': True, 'leav': True, 'taken': True},\n",
       "  'Utilized-Annual-Leaves'),\n",
       " ({'leav': True, 'pend': True}, 'Default-Balance-Annual-Leaves'),\n",
       " ({'tell': True,\n",
       "   'carri': True,\n",
       "   'forward': True,\n",
       "   'leav': True,\n",
       "   'previous': True,\n",
       "   'year': True},\n",
       "  'CF'),\n",
       " ({'leav': True, 'type': True}, 'Leaves-Type'),\n",
       " ({'number': True, 'annual': True, 'leav': True, 'remain': True},\n",
       "  'Balance-Annual-Leaves'),\n",
       " ({'option': True, 'leav': True, 'count': True, 'use': True},\n",
       "  'Utilized-Optional-Leaves'),\n",
       " ({'option': True, 'leav': True, 'count': True, 'remain': True},\n",
       "  'Balance-Optional-Leaves'),\n",
       " ({'option': True, 'leav': True, 'take': True}, 'Balance-Optional-Leaves'),\n",
       " ({'mani': True, 'carri': True, 'forward': True, 'leav': True}, 'CF'),\n",
       " ({'mani': True, 'annual': True, 'leav': True, 'taken': True},\n",
       "  'Utilized-Annual-Leaves'),\n",
       " ({'option': True, 'leav': True, 'alreadi': True, 'taken': True},\n",
       "  'Utilized-Optional-Leaves'),\n",
       " ({'leav': True, 'balanc': True}, 'Default-Balance-Annual-Leaves'),\n",
       " ({'mani': True, 'option': True, 'leav': True}, 'Balance-Optional-Leaves'),\n",
       " ({'option': True, 'leav': True}, 'Balance-Optional-Leaves'),\n",
       " ({'number': True, 'option': True, 'leav': True, 'remain': True},\n",
       "  'Balance-Optional-Leaves'),\n",
       " ({'number': True, 'option': True, 'leav': True}, 'Utilized-Optional-Leaves'),\n",
       " ({'number': True, 'annual': True, 'leav': True, 'remain': True},\n",
       "  'Balance-Annual-Leaves'),\n",
       " ({'number': True, 'option': True, 'leav': True, 'remain': True},\n",
       "  'Balance-Optional-Leaves'),\n",
       " ({'leav': True}, 'Default-Balance-Annual-Leaves'),\n",
       " ({'mani': True, 'leav': True, 'remain': True},\n",
       "  'Default-Balance-Annual-Leaves'),\n",
       " ({'type': True, 'leav': True}, 'Leaves-Type'),\n",
       " ({'hi': True}, 'Greetings'),\n",
       " ({'mani': True,\n",
       "   'carri': True,\n",
       "   'forward': True,\n",
       "   'previous': True,\n",
       "   'year': True},\n",
       "  'CF'),\n",
       " ({'mani': True, 'option': True, 'leav': True, 'take': True},\n",
       "  'Balance-Optional-Leaves'),\n",
       " ({'option': True, 'leav': True}, 'Utilized-Optional-Leaves'),\n",
       " ({'mani': True, 'option': True, 'leav': True}, 'Utilized-Optional-Leaves'),\n",
       " ({'number': True, 'carri': True, 'forward': True, 'leav': True}, 'CF'),\n",
       " ({'tell': True, 'leav': True, 'balanc': True},\n",
       "  'Default-Balance-Annual-Leaves'),\n",
       " ({'want': True, 'help': True}, 'No-Help'),\n",
       " ({'option': True, 'leav': True, 'count': True, 'use': True},\n",
       "  'Utilized-Optional-Leaves'),\n",
       " ({'number': True, 'annual': True, 'leav': True, 'remain': True},\n",
       "  'Balance-Annual-Leaves'),\n",
       " ({'mani': True, 'annual': True, 'leav': True, 'alreadi': True, 'taken': True},\n",
       "  'Utilized-Annual-Leaves'),\n",
       " ({'remain': True, 'leav': True}, 'Default-Balance-Annual-Leaves'),\n",
       " ({'remain': True, 'leav': True}, 'Default-Balance-Annual-Leaves'),\n",
       " ({'tell': True, 'carri': True, 'forward': True, 'leav': True}, 'CF'),\n",
       " ({'hello': True}, 'Greetings'),\n",
       " ({'number': True, 'annual': True, 'leav': True, 'taken': True},\n",
       "  'Utilized-Annual-Leaves'),\n",
       " ({'number': True, 'option': True, 'leav': True, 'remain': True},\n",
       "  'Balance-Optional-Leaves'),\n",
       " ({'mani': True, 'annual': True, 'leav': True}, 'Utilized-Annual-Leaves'),\n",
       " ({'mani': True, 'leav': True, 'alreadi': True, 'taken': True},\n",
       "  'Default-Utilized-Annual-Leaves'),\n",
       " ({'number': True, 'annual': True, 'leav': True}, 'Utilized-Annual-Leaves'),\n",
       " ({'annual': True, 'leav': True, 'remain': True}, 'Balance-Annual-Leaves'),\n",
       " ({'annual': True, 'leav': True, 'count': True, 'taken': True},\n",
       "  'Utilized-Annual-Leaves'),\n",
       " ({'today': True}, 'Opening'),\n",
       " ({'mani': True, 'option': True, 'leav': True, 'taken': True},\n",
       "  'Utilized-Optional-Leaves'),\n",
       " ({'annual': True, 'leav': True}, 'Utilized-Annual-Leaves'),\n",
       " ({'annual': True, 'leav': True, 'count': True, 'remain': True},\n",
       "  'Balance-Annual-Leaves'),\n",
       " ({'number': True, 'option': True, 'leav': True, 'taken': True},\n",
       "  'Utilized-Optional-Leaves'),\n",
       " ({'number': True, 'option': True, 'leav': True, 'taken': True},\n",
       "  'Utilized-Optional-Leaves'),\n",
       " ({'annual': True, 'leav': True, 'remain': True}, 'Balance-Annual-Leaves'),\n",
       " ({'annual': True, 'leav': True, 'balanc': True}, 'Balance-Annual-Leaves'),\n",
       " ({'good': True, 'even': True}, 'Evening'),\n",
       " ({'need': True, 'help': True}, 'Help'),\n",
       " ({'option': True, 'leav': True, 'balanc': True}, 'Balance-Optional-Leaves'),\n",
       " ({'number': True, 'option': True, 'leav': True}, 'Balance-Optional-Leaves'),\n",
       " ({'annual': True, 'leav': True, 'balanc': True}, 'Balance-Annual-Leaves'),\n",
       " ({'carri': True, 'forward': True, 'leav': True}, 'CF'),\n",
       " ({'mani': True, 'option': True, 'leav': True}, 'Balance-Optional-Leaves'),\n",
       " ({'great': True, 'talk': True}, 'Closing'),\n",
       " ({'number': True, 'forward': True, 'leav': True}, 'CF'),\n",
       " ({'number': True, 'option': True, 'leav': True}, 'Utilized-Optional-Leaves'),\n",
       " ({'hi': True, 'hello': True}, 'Greetings'),\n",
       " ({'help': True}, 'Help'),\n",
       " ({'annual': True, 'leav': True, 'balanc': True}, 'Balance-Annual-Leaves'),\n",
       " ({'option': True, 'leav': True}, 'Balance-Optional-Leaves'),\n",
       " ({'mani': True, 'annual': True, 'leav': True, 'remain': True},\n",
       "  'Balance-Annual-Leaves'),\n",
       " ({'option': True, 'leav': True, 'count': True, 'use': True},\n",
       "  'Utilized-Optional-Leaves'),\n",
       " ({'number': True,\n",
       "   'annual': True,\n",
       "   'leav': True,\n",
       "   'alreadi': True,\n",
       "   'taken': True},\n",
       "  'Utilized-Annual-Leaves'),\n",
       " ({'option': True, 'leav': True, 'count': True, 'remain': True},\n",
       "  'Balance-Optional-Leaves'),\n",
       " ({'mani': True, 'type': True, 'leav': True}, 'Leaves-Type'),\n",
       " ({'number': True, 'annual': True, 'leav': True, 'taken': True},\n",
       "  'Utilized-Annual-Leaves'),\n",
       " ({'previous': True,\n",
       "   'year': True,\n",
       "   'carri': True,\n",
       "   'forward': True,\n",
       "   'leav': True},\n",
       "  'CF'),\n",
       " ({'thank': True, 'much': True}, 'Closing'),\n",
       " ({'forward': True, 'leav': True}, 'CF'),\n",
       " ({'taken': True, 'annual': True, 'leav': True}, 'Utilized-Annual-Leaves'),\n",
       " ({'mani': True, 'leav': True, 'taken': True},\n",
       "  'Default-Utilized-Annual-Leaves'),\n",
       " ({'annual': True, 'leav': True}, 'Balance-Annual-Leaves'),\n",
       " ({'number': True, 'option': True, 'leav': True, 'taken': True},\n",
       "  'Utilized-Optional-Leaves'),\n",
       " ({'tell': True, 'carri': True, 'forward': True, 'leav': True}, 'CF'),\n",
       " ({'number': True, 'forward': True, 'leav': True}, 'CF'),\n",
       " ({'mani': True, 'option': True, 'leav': True, 'taken': True},\n",
       "  'Utilized-Optional-Leaves'),\n",
       " ({'number': True, 'option': True, 'leav': True, 'remain': True},\n",
       "  'Balance-Optional-Leaves'),\n",
       " ({'annual': True, 'leav': True, 'count': True, 'remain': True},\n",
       "  'Balance-Annual-Leaves'),\n",
       " ({'thank': True}, 'Closing'),\n",
       " ({'hello': True, 'hi': True}, 'Greetings'),\n",
       " ({'hey': True, 'hello': True}, 'Greetings'),\n",
       " ({'hey': True}, 'Greetings'),\n",
       " ({'mani': True, 'option': True, 'leav': True}, 'Utilized-Optional-Leaves'),\n",
       " ({'number': True, 'option': True, 'leav': True, 'taken': True},\n",
       "  'Utilized-Optional-Leaves'),\n",
       " ({'annual': True, 'leav': True, 'count': True, 'remain': True},\n",
       "  'Balance-Annual-Leaves'),\n",
       " ({'hey': True}, 'Greetings'),\n",
       " ({'annual': True, 'leav': True, 'remain': True}, 'Balance-Annual-Leaves'),\n",
       " ({'help': True}, 'No-Help'),\n",
       " ({'option': True}, 'Balance-Optional-Leaves'),\n",
       " ({'option': True, 'leav': True, 'count': True, 'taken': True},\n",
       "  'Utilized-Optional-Leaves'),\n",
       " ({'mani': True, 'annual': True, 'leav': True}, 'Balance-Annual-Leaves'),\n",
       " ({'option': True, 'leav': True, 'taken': True}, 'Utilized-Optional-Leaves'),\n",
       " ({'option': True, 'leav': True}, 'Balance-Optional-Leaves'),\n",
       " ({'option': True, 'leav': True, 'count': True, 'taken': True},\n",
       "  'Utilized-Optional-Leaves')]"
      ]
     },
     "execution_count": 127,
     "metadata": {},
     "output_type": "execute_result"
    }
   ],
   "source": [
    "training_data"
   ]
  },
  {
   "cell_type": "code",
   "execution_count": 109,
   "metadata": {},
   "outputs": [],
   "source": [
    "# save the data\n",
    "np.save('training_data', training_data)\n",
    "np.save('test_data', test_data)"
   ]
  },
  {
   "cell_type": "markdown",
   "metadata": {},
   "source": [
    "## Classification using Decision tree"
   ]
  },
  {
   "cell_type": "code",
   "execution_count": null,
   "metadata": {},
   "outputs": [],
   "source": [
    "training_data = np.load('training_data.npy')\n",
    "test_data = np.load('test_data.npy')"
   ]
  },
  {
   "cell_type": "code",
   "execution_count": 138,
   "metadata": {},
   "outputs": [],
   "source": [
    "def train_using_decision_tree(training_data, test_data):\n",
    "    \n",
    "    classifier = nltk.classify.DecisionTreeClassifier.train(training_data, entropy_cutoff=0.6, support_cutoff=6)\n",
    "    classifier_name = type(classifier).__name__\n",
    "    training_set_accuracy = nltk.classify.accuracy(classifier, training_data)\n",
    "    print('training set accuracy: ', training_set_accuracy)\n",
    "    test_set_accuracy = nltk.classify.accuracy(classifier, test_data)\n",
    "    print('test set accuracy: ', test_set_accuracy)\n",
    "    return classifier, classifier_name, test_set_accuracy, training_set_accuracy"
   ]
  },
  {
   "cell_type": "code",
   "execution_count": 139,
   "metadata": {},
   "outputs": [
    {
     "name": "stdout",
     "output_type": "stream",
     "text": [
      "training set accuracy:  0.9035087719298246\n",
      "test set accuracy:  0.896551724137931\n"
     ]
    }
   ],
   "source": [
    "dtclassifier, classifier_name, test_set_accuracy, training_set_accuracy = train_using_decision_tree(training_data, test_data)"
   ]
  },
  {
   "cell_type": "code",
   "execution_count": null,
   "metadata": {},
   "outputs": [],
   "source": []
  },
  {
   "cell_type": "markdown",
   "metadata": {},
   "source": [
    "## Classification using Naive Bayes"
   ]
  },
  {
   "cell_type": "code",
   "execution_count": 140,
   "metadata": {},
   "outputs": [],
   "source": [
    "def train_using_naive_bayes(training_data, test_data):\n",
    "    classifier = nltk.NaiveBayesClassifier.train(training_data)\n",
    "    classifier_name = type(classifier).__name__\n",
    "    training_set_accuracy = nltk.classify.accuracy(classifier, training_data)\n",
    "    test_set_accuracy = nltk.classify.accuracy(classifier, test_data)\n",
    "    return classifier, classifier_name, test_set_accuracy, training_set_accuracy"
   ]
  },
  {
   "cell_type": "code",
   "execution_count": 141,
   "metadata": {},
   "outputs": [
    {
     "name": "stdout",
     "output_type": "stream",
     "text": [
      "0.8421052631578947\n",
      "0.7931034482758621\n",
      "68\n",
      "Most Informative Features\n",
      "                    leav = None           Greeti : Balanc =     11.2 : 1.0\n",
      "                 alreadi = True           Defaul : Utiliz =      7.7 : 1.0\n",
      "                    mani = True           Defaul : Balanc =      6.3 : 1.0\n",
      "                   carri = None           Utiliz : CF     =      3.9 : 1.0\n",
      "                   thank = None           Utiliz : Closin =      3.9 : 1.0\n",
      "                    help = True             Help : Closin =      3.5 : 1.0\n",
      "                   count = True           Utiliz : CF     =      3.4 : 1.0\n",
      "                  remain = None           Utiliz : Balanc =      3.4 : 1.0\n",
      "                   taken = None           Balanc : Utiliz =      2.8 : 1.0\n",
      "                    want = None           Utiliz : No-Hel =      2.6 : 1.0\n"
     ]
    }
   ],
   "source": [
    "classifier, classifier_name, test_set_accuracy, training_set_accuracy = train_using_naive_bayes(training_data, test_data)\n",
    "print(training_set_accuracy)\n",
    "print(test_set_accuracy)\n",
    "print(len(classifier.most_informative_features()))\n",
    "classifier.show_most_informative_features()"
   ]
  },
  {
   "cell_type": "code",
   "execution_count": 142,
   "metadata": {},
   "outputs": [
    {
     "data": {
      "text/plain": [
       "'Utilized-Optional-Leaves'"
      ]
     },
     "execution_count": 142,
     "metadata": {},
     "output_type": "execute_result"
    }
   ],
   "source": [
    "classifier.classify(({'mani': True, 'option': True, 'leav': True}))"
   ]
  },
  {
   "cell_type": "code",
   "execution_count": null,
   "metadata": {},
   "outputs": [],
   "source": []
  },
  {
   "cell_type": "code",
   "execution_count": 143,
   "metadata": {},
   "outputs": [
    {
     "data": {
      "text/plain": [
       "['hello']"
      ]
     },
     "execution_count": 143,
     "metadata": {},
     "output_type": "execute_result"
    }
   ],
   "source": [
    "extract_feature(\"hello\")"
   ]
  },
  {
   "cell_type": "code",
   "execution_count": 144,
   "metadata": {},
   "outputs": [
    {
     "data": {
      "text/plain": [
       "{'hello': True}"
      ]
     },
     "execution_count": 144,
     "metadata": {},
     "output_type": "execute_result"
    }
   ],
   "source": [
    "word_feats(extract_feature(\"hello\"))"
   ]
  },
  {
   "cell_type": "code",
   "execution_count": 145,
   "metadata": {},
   "outputs": [
    {
     "data": {
      "text/plain": [
       "'Utilized-Optional-Leaves'"
      ]
     },
     "execution_count": 145,
     "metadata": {},
     "output_type": "execute_result"
    }
   ],
   "source": [
    "input_sentence = \"how many balanced leaves do I have?\"\n",
    "classifier.classify(word_feats(extract_feature(input_sentence)))"
   ]
  },
  {
   "cell_type": "code",
   "execution_count": null,
   "metadata": {},
   "outputs": [],
   "source": []
  },
  {
   "cell_type": "code",
   "execution_count": 146,
   "metadata": {},
   "outputs": [],
   "source": [
    "def reply(input_sentence):\n",
    "    category = dtclassifier.classify(word_feats(extract_feature(input_sentence)))\n",
    "    return answers[category]\n",
    "    \n",
    "    "
   ]
  },
  {
   "cell_type": "code",
   "execution_count": 147,
   "metadata": {},
   "outputs": [
    {
     "data": {
      "text/plain": [
       "'Hello. I am Dexter. I will serve your leave enquiries.'"
      ]
     },
     "execution_count": 147,
     "metadata": {},
     "output_type": "execute_result"
    }
   ],
   "source": [
    "reply('Hi')"
   ]
  },
  {
   "cell_type": "code",
   "execution_count": 148,
   "metadata": {},
   "outputs": [
    {
     "data": {
      "text/plain": [
       "'You have 25 annual leaves remaining.'"
      ]
     },
     "execution_count": 148,
     "metadata": {},
     "output_type": "execute_result"
    }
   ],
   "source": [
    "reply('How many annual leaves do I have left?')"
   ]
  },
  {
   "cell_type": "code",
   "execution_count": 149,
   "metadata": {},
   "outputs": [
    {
     "data": {
      "text/plain": [
       "'You have used 12 annual leaves.'"
      ]
     },
     "execution_count": 149,
     "metadata": {},
     "output_type": "execute_result"
    }
   ],
   "source": [
    "reply('How many leaves have I taken?')"
   ]
  },
  {
   "cell_type": "code",
   "execution_count": 150,
   "metadata": {},
   "outputs": [
    {
     "data": {
      "text/plain": [
       "\"It's glad to know that I have been helpful. Have a good day!\""
      ]
     },
     "execution_count": 150,
     "metadata": {},
     "output_type": "execute_result"
    }
   ],
   "source": [
    "reply('Thanks!')"
   ]
  },
  {
   "cell_type": "code",
   "execution_count": null,
   "metadata": {},
   "outputs": [],
   "source": []
  },
  {
   "cell_type": "code",
   "execution_count": null,
   "metadata": {},
   "outputs": [],
   "source": []
  },
  {
   "cell_type": "code",
   "execution_count": null,
   "metadata": {},
   "outputs": [],
   "source": []
  },
  {
   "cell_type": "markdown",
   "metadata": {},
   "source": [
    "# Conclusion:"
   ]
  },
  {
   "cell_type": "markdown",
   "metadata": {},
   "source": [
    "Once the model has been developed using an algorithm that gives an acceptable accuracy, this model can be called using to any chatbot UI framework"
   ]
  },
  {
   "cell_type": "code",
   "execution_count": null,
   "metadata": {},
   "outputs": [],
   "source": []
  }
 ],
 "metadata": {
  "kernelspec": {
   "display_name": "Python 3",
   "language": "python",
   "name": "python3"
  },
  "language_info": {
   "codemirror_mode": {
    "name": "ipython",
    "version": 3
   },
   "file_extension": ".py",
   "mimetype": "text/x-python",
   "name": "python",
   "nbconvert_exporter": "python",
   "pygments_lexer": "ipython3",
   "version": "3.7.6"
  }
 },
 "nbformat": 4,
 "nbformat_minor": 1
}
