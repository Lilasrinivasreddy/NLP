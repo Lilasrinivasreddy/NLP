{
  "nbformat": 4,
  "nbformat_minor": 0,
  "metadata": {
    "kernelspec": {
      "display_name": "Python 3",
      "language": "python",
      "name": "python3"
    },
    "language_info": {
      "codemirror_mode": {
        "name": "ipython",
        "version": 3
      },
      "file_extension": ".py",
      "mimetype": "text/x-python",
      "name": "python",
      "nbconvert_exporter": "python",
      "pygments_lexer": "ipython3",
      "version": "3.8.3"
    },
    "colab": {
      "name": "Bristlecone_Case_Study.ipynb",
      "provenance": [],
      "toc_visible": true,
      "include_colab_link": true
    }
  },
  "cells": [
    {
      "cell_type": "markdown",
      "metadata": {
        "id": "view-in-github",
        "colab_type": "text"
      },
      "source": [
        "<a href=\"https://colab.research.google.com/github/Lilasrinivasreddy/NLP/blob/main/Bristlecone_Case_Study.ipynb\" target=\"_parent\"><img src=\"https://colab.research.google.com/assets/colab-badge.svg\" alt=\"Open In Colab\"/></a>"
      ]
    },
    {
      "cell_type": "markdown",
      "metadata": {
        "id": "lNZJ3t18eJQ8"
      },
      "source": [
        "## Extracting relevant information from PDF files using OCR and NLP techniques"
      ]
    },
    {
      "cell_type": "code",
      "metadata": {
        "id": "AEZnA0WBeJRA"
      },
      "source": [
        "import os\n",
        "import spacy\n",
        "import re\n",
        "from dateutil.parser import *\n",
        "import textract\n",
        "import json"
      ],
      "execution_count": null,
      "outputs": []
    },
    {
      "cell_type": "code",
      "metadata": {
        "id": "gNGHy6HqeXZ_"
      },
      "source": [
        "# !pip install textract"
      ],
      "execution_count": null,
      "outputs": []
    },
    {
      "cell_type": "code",
      "metadata": {
        "colab": {
          "base_uri": "https://localhost:8080/",
          "height": 323
        },
        "id": "RcrdvJAfeJRD",
        "outputId": "cf57faa3-1c14-4ce0-daf8-2d75541d1582"
      },
      "source": [
        "nlp = spacy.load('en_core_web_md')"
      ],
      "execution_count": null,
      "outputs": [
        {
          "output_type": "error",
          "ename": "OSError",
          "evalue": "ignored",
          "traceback": [
            "\u001b[0;31m---------------------------------------------------------------------------\u001b[0m",
            "\u001b[0;31mOSError\u001b[0m                                   Traceback (most recent call last)",
            "\u001b[0;32m<ipython-input-5-614d6de0ab0f>\u001b[0m in \u001b[0;36m<module>\u001b[0;34m()\u001b[0m\n\u001b[0;32m----> 1\u001b[0;31m \u001b[0mnlp\u001b[0m \u001b[0;34m=\u001b[0m \u001b[0mspacy\u001b[0m\u001b[0;34m.\u001b[0m\u001b[0mload\u001b[0m\u001b[0;34m(\u001b[0m\u001b[0;34m'en_core_web_md'\u001b[0m\u001b[0;34m)\u001b[0m\u001b[0;34m\u001b[0m\u001b[0;34m\u001b[0m\u001b[0m\n\u001b[0m",
            "\u001b[0;32m/usr/local/lib/python3.7/dist-packages/spacy/__init__.py\u001b[0m in \u001b[0;36mload\u001b[0;34m(name, **overrides)\u001b[0m\n\u001b[1;32m     28\u001b[0m     \u001b[0;32mif\u001b[0m \u001b[0mdepr_path\u001b[0m \u001b[0;32mnot\u001b[0m \u001b[0;32min\u001b[0m \u001b[0;34m(\u001b[0m\u001b[0;32mTrue\u001b[0m\u001b[0;34m,\u001b[0m \u001b[0;32mFalse\u001b[0m\u001b[0;34m,\u001b[0m \u001b[0;32mNone\u001b[0m\u001b[0;34m)\u001b[0m\u001b[0;34m:\u001b[0m\u001b[0;34m\u001b[0m\u001b[0;34m\u001b[0m\u001b[0m\n\u001b[1;32m     29\u001b[0m         \u001b[0mdeprecation_warning\u001b[0m\u001b[0;34m(\u001b[0m\u001b[0mWarnings\u001b[0m\u001b[0;34m.\u001b[0m\u001b[0mW001\u001b[0m\u001b[0;34m.\u001b[0m\u001b[0mformat\u001b[0m\u001b[0;34m(\u001b[0m\u001b[0mpath\u001b[0m\u001b[0;34m=\u001b[0m\u001b[0mdepr_path\u001b[0m\u001b[0;34m)\u001b[0m\u001b[0;34m)\u001b[0m\u001b[0;34m\u001b[0m\u001b[0;34m\u001b[0m\u001b[0m\n\u001b[0;32m---> 30\u001b[0;31m     \u001b[0;32mreturn\u001b[0m \u001b[0mutil\u001b[0m\u001b[0;34m.\u001b[0m\u001b[0mload_model\u001b[0m\u001b[0;34m(\u001b[0m\u001b[0mname\u001b[0m\u001b[0;34m,\u001b[0m \u001b[0;34m**\u001b[0m\u001b[0moverrides\u001b[0m\u001b[0;34m)\u001b[0m\u001b[0;34m\u001b[0m\u001b[0;34m\u001b[0m\u001b[0m\n\u001b[0m\u001b[1;32m     31\u001b[0m \u001b[0;34m\u001b[0m\u001b[0m\n\u001b[1;32m     32\u001b[0m \u001b[0;34m\u001b[0m\u001b[0m\n",
            "\u001b[0;32m/usr/local/lib/python3.7/dist-packages/spacy/util.py\u001b[0m in \u001b[0;36mload_model\u001b[0;34m(name, **overrides)\u001b[0m\n\u001b[1;32m    167\u001b[0m     \u001b[0;32melif\u001b[0m \u001b[0mhasattr\u001b[0m\u001b[0;34m(\u001b[0m\u001b[0mname\u001b[0m\u001b[0;34m,\u001b[0m \u001b[0;34m\"exists\"\u001b[0m\u001b[0;34m)\u001b[0m\u001b[0;34m:\u001b[0m  \u001b[0;31m# Path or Path-like to model data\u001b[0m\u001b[0;34m\u001b[0m\u001b[0;34m\u001b[0m\u001b[0m\n\u001b[1;32m    168\u001b[0m         \u001b[0;32mreturn\u001b[0m \u001b[0mload_model_from_path\u001b[0m\u001b[0;34m(\u001b[0m\u001b[0mname\u001b[0m\u001b[0;34m,\u001b[0m \u001b[0;34m**\u001b[0m\u001b[0moverrides\u001b[0m\u001b[0;34m)\u001b[0m\u001b[0;34m\u001b[0m\u001b[0;34m\u001b[0m\u001b[0m\n\u001b[0;32m--> 169\u001b[0;31m     \u001b[0;32mraise\u001b[0m \u001b[0mIOError\u001b[0m\u001b[0;34m(\u001b[0m\u001b[0mErrors\u001b[0m\u001b[0;34m.\u001b[0m\u001b[0mE050\u001b[0m\u001b[0;34m.\u001b[0m\u001b[0mformat\u001b[0m\u001b[0;34m(\u001b[0m\u001b[0mname\u001b[0m\u001b[0;34m=\u001b[0m\u001b[0mname\u001b[0m\u001b[0;34m)\u001b[0m\u001b[0;34m)\u001b[0m\u001b[0;34m\u001b[0m\u001b[0;34m\u001b[0m\u001b[0m\n\u001b[0m\u001b[1;32m    170\u001b[0m \u001b[0;34m\u001b[0m\u001b[0m\n\u001b[1;32m    171\u001b[0m \u001b[0;34m\u001b[0m\u001b[0m\n",
            "\u001b[0;31mOSError\u001b[0m: [E050] Can't find model 'en_core_web_md'. It doesn't seem to be a shortcut link, a Python package or a valid path to a data directory."
          ]
        }
      ]
    },
    {
      "cell_type": "code",
      "metadata": {
        "id": "m28DEs08eJRE",
        "outputId": "e821c77c-7c73-4f41-81f5-2d8a0b5d28d5"
      },
      "source": [
        "#Checking the current working directory\n",
        "os.getcwd()"
      ],
      "execution_count": null,
      "outputs": [
        {
          "output_type": "execute_result",
          "data": {
            "text/plain": [
              "'C:\\\\Users\\\\Rameshreddy_Peddired'"
            ]
          },
          "metadata": {
            "tags": []
          },
          "execution_count": 4
        }
      ]
    },
    {
      "cell_type": "code",
      "metadata": {
        "id": "s-FW3poAeJRG",
        "outputId": "212a927d-d5f8-4258-c339-8009f1d236d1"
      },
      "source": [
        "#Changing the current working directory to the files locaiton\n",
        "os.chdir(r'C:\\Users\\Rameshreddy_Peddired\\Downloads\\Sample_Files\\Sample_Files')\n",
        "os.getcwd()"
      ],
      "execution_count": null,
      "outputs": [
        {
          "output_type": "execute_result",
          "data": {
            "text/plain": [
              "'C:\\\\Users\\\\Rameshreddy_Peddired\\\\Downloads\\\\Sample_Files\\\\Sample_Files'"
            ]
          },
          "metadata": {
            "tags": []
          },
          "execution_count": 5
        }
      ]
    },
    {
      "cell_type": "code",
      "metadata": {
        "id": "ydfVvvCGeJRH"
      },
      "source": [
        "pdf1 = '09f8cfb0-d649-0137.pdf'\n",
        "pdf2 = '202076540912.pdf'\n",
        "pdf3 = '201051107425035.pdf'\n",
        "pdf4 = 'BD1-1421.pdf'\n",
        "pdf5 = 'INV_UCB_19847612.pdf'\n",
        "pdf6 = 'ISMP23497211.pdf'\n",
        "\n",
        "all_pdfs = [pdf1,pdf2,pdf3,pdf4, pdf5,pdf6]"
      ],
      "execution_count": null,
      "outputs": []
    },
    {
      "cell_type": "markdown",
      "metadata": {
        "id": "8gLYFlQpeJRI"
      },
      "source": [
        "# Defining a Function to check whether it's an Invoice or Engineering drawing"
      ]
    },
    {
      "cell_type": "code",
      "metadata": {
        "id": "rRoxNiLyeJRJ"
      },
      "source": [
        "def Is_Invoice_Or_Drawing(text):\n",
        "    \n",
        "    tokens = text.lower().split()\n",
        "    \n",
        "    valid_invoice_tags = ['invoice', 'lading', 'bill'] \n",
        "    \n",
        "    output = [i for i in tokens if i in valid_invoice_tags]\n",
        "    \n",
        "    if len(output) > 0:\n",
        "        return \"Invoice\"\n",
        "    else:\n",
        "        return \"Engineering Drawing\"\n"
      ],
      "execution_count": null,
      "outputs": []
    },
    {
      "cell_type": "markdown",
      "metadata": {
        "id": "veVHtozMeJRK"
      },
      "source": [
        "#### Text Cleaning"
      ]
    },
    {
      "cell_type": "code",
      "metadata": {
        "id": "_8_ujexteJRK"
      },
      "source": [
        "def Clean_Text(file):\n",
        "    \n",
        "    text = textract.process(file, method='tesseract')\n",
        "\n",
        "    # Convert to string\n",
        "    text = text.decode('utf-8')\n",
        "    \n",
        "    # Replace \"\\r\\n\" with spaces\n",
        "    text = text.replace(\"\\r\\n\", \" \")\n",
        "    \n",
        "    # Remove any double spaces\n",
        "    text = re.sub(\" +\", \" \", text)\n",
        "    \n",
        "    return text"
      ],
      "execution_count": null,
      "outputs": []
    },
    {
      "cell_type": "code",
      "metadata": {
        "id": "svzqc_WqeJRL"
      },
      "source": [
        "def Get_Tag_Position(tag, text, direction = 'forward'):\n",
        "        \n",
        "    tag = tag.lower()\n",
        "    \n",
        "    if direction == 'reverse':\n",
        "        tag_pos = text.lower().rfind(tag)\n",
        "    else:\n",
        "        tag_pos = text.lower().find(tag)\n",
        "\n",
        "    if tag_pos > 0:\n",
        "        start_pos = tag_pos + len(tag) + 1\n",
        "    else:\n",
        "        start_pos = -1\n",
        "    \n",
        "    return start_pos"
      ],
      "execution_count": null,
      "outputs": []
    },
    {
      "cell_type": "code",
      "metadata": {
        "id": "5R8YZZgveJRM"
      },
      "source": [
        "def Get_Invoice_Date(text):\n",
        "    \n",
        "    possible_dates = []\n",
        "\n",
        "    # Search for the exact tag mentioned as \"Invoice Date\"\n",
        "    temp_corpus = text[Get_Tag_Position(\"invoice date\", text):]\n",
        "    doc = nlp(temp_corpus)\n",
        "    possible_dates = [ent for ent in doc.ents if ent.label_ == \"DATE\"]\n",
        "\n",
        "    \n",
        "    # If the tag \"Invoice Date\" is not found then search for the tag \"Date\"\n",
        "    temp_corpus = text[Get_Tag_Position(\"date\", text):]\n",
        "    doc = nlp(temp_corpus)\n",
        "    possible_dates += [ent for ent in doc.ents if ent.label_ == \"DATE\"]\n",
        "\n",
        "    \n",
        "    # If both the above fail then loop through all the tokens and try to identify valid dates\n",
        "    tokens = text.split()\n",
        "\n",
        "    for token in tokens:\n",
        "\n",
        "        if len(token) >= 4:\n",
        "            try:\n",
        "                converted_date = parse(token)\n",
        "                possible_dates.append(token)\n",
        "            except:\n",
        "                continue\n",
        "\n",
        "    # Convert all the date tokens found to string           \n",
        "    possible_dates = list(map(str, possible_dates))        \n",
        "    \n",
        "\n",
        "    # Select only the final valid dates\n",
        "    valid_dates = []\n",
        "\n",
        "    for date in possible_dates:\n",
        "\n",
        "        if len(date) >= 4:\n",
        "            try:\n",
        "                converted_date = parse(date)\n",
        "                valid_dates.append(date)\n",
        "            except:\n",
        "                continue\n",
        "\n",
        "    if len(valid_dates) > 0:\n",
        "        return valid_dates[0]\n",
        "    else:\n",
        "        return \"No Invoice Date Found\""
      ],
      "execution_count": null,
      "outputs": []
    },
    {
      "cell_type": "markdown",
      "metadata": {
        "id": "nKoFeKbfeJRN"
      },
      "source": [
        "#### Get Invoice Amount"
      ]
    },
    {
      "cell_type": "code",
      "metadata": {
        "id": "CjGnUlXzeJRO"
      },
      "source": [
        "def Parse_Amounts(text):\n",
        "    \n",
        "    money = re.compile('|'.join([\n",
        "                    r\"\\$?\\d+\\.?\\d+\\,\\d{1,2} \",  # EUR format\n",
        "                    r\"\\$?\\d+\\,?\\d+\\.\\d{1,2} \",  # USD format\n",
        "                    r\"\\$\\d+\\,?\\d*\\.?\\d{1,2} \",  # USD format without decimals\n",
        "                   ]))\n",
        "    \n",
        "    matches = re.findall(money, text)\n",
        "\n",
        "    matches = [i.strip() for i in matches]\n",
        "\n",
        "    return matches"
      ],
      "execution_count": null,
      "outputs": []
    },
    {
      "cell_type": "code",
      "metadata": {
        "id": "MfAzLKQEeJRO"
      },
      "source": [
        "def Get_Invoice_Amount(text):\n",
        "    \n",
        "    text = text.lower()\n",
        "\n",
        "    invoice_amount = \"\"\n",
        "\n",
        "    amounts = Parse_Amounts(text)\n",
        "\n",
        "    if len(amounts) > 0:\n",
        "        invoice_amount = amounts[-1]\n",
        "    else:\n",
        "\n",
        "        temp_corpus = text[Get_Tag_Position(\"total\", text, direction='reverse'):]\n",
        "        numbers = re.findall(\"\\d+\", temp_corpus)\n",
        "\n",
        "        if len(numbers) > 0:\n",
        "            invoice_amount = numbers[0]\n",
        "\n",
        "    return invoice_amount"
      ],
      "execution_count": null,
      "outputs": []
    },
    {
      "cell_type": "markdown",
      "metadata": {
        "id": "fsE839S-eJRP"
      },
      "source": [
        "### Parse Engineering Drawing data"
      ]
    },
    {
      "cell_type": "code",
      "metadata": {
        "id": "jm5suh1deJRQ"
      },
      "source": [
        "# Search for the exact tag mentioned as \"job\"\n",
        "\n",
        "def Get_JobID(text):\n",
        "\n",
        "    start_pos = Get_Tag_Position(\"job\", text)\n",
        "    \n",
        "    if start_pos < 0:\n",
        "        job_id = \"No job ID found\"\n",
        "    else:\n",
        "        \n",
        "        temp_corpus = text[start_pos:]\n",
        "\n",
        "        valid_matches = []\n",
        "\n",
        "        tokens = temp_corpus.split()[:10]\n",
        "\n",
        "        for token in tokens:\n",
        "            if token.isnumeric():\n",
        "                valid_matches.append(token)\n",
        "\n",
        "        if len(valid_matches) > 0:\n",
        "            job_id = valid_matches[0]\n",
        "        else:\n",
        "            job_id = \"No job ID found\"\n",
        "\n",
        "    return job_id"
      ],
      "execution_count": null,
      "outputs": []
    },
    {
      "cell_type": "code",
      "metadata": {
        "id": "wfWNgah7eJRQ"
      },
      "source": [
        "# Search for the exact tag mentioned as \"pipe\"\n",
        "\n",
        "def Get_Pipe_Classes(text):\n",
        "    \n",
        "    text = text.lower()\n",
        "    text = text.replace(\"|\", \" \")\n",
        "    tokens = text.lower().split()\n",
        "\n",
        "    valid_matches = []\n",
        "    for i, token in enumerate(tokens):\n",
        "        if (token == \"pipe\") :\n",
        "            next_token = tokens[i+1]\n",
        "            if next_token.isalpha():\n",
        "                valid_matches.append(next_token.upper())\n",
        "\n",
        "    if len(valid_matches) > 0:\n",
        "        pipe_classes = valid_matches\n",
        "    else:\n",
        "        pipe_classes = \"No pipe class found\"\n",
        "\n",
        "    return pipe_classes"
      ],
      "execution_count": null,
      "outputs": []
    },
    {
      "cell_type": "markdown",
      "metadata": {
        "id": "jJiq1IVqeJRS"
      },
      "source": [
        "### Get Invoice Number"
      ]
    },
    {
      "cell_type": "code",
      "metadata": {
        "id": "5QlQP8GteJRS"
      },
      "source": [
        "def Extract_Tag_Data(tag, text, direction = 'forward'):\n",
        "    \n",
        "    token = ''\n",
        "    \n",
        "    start_pos = Get_Tag_Position(tag, text, direction=direction)\n",
        "\n",
        "    if start_pos > 0:\n",
        "        temp_corpus = text[start_pos:]\n",
        "        token = temp_corpus.split('|')[0]\n",
        "        \n",
        "    return token"
      ],
      "execution_count": null,
      "outputs": []
    },
    {
      "cell_type": "code",
      "metadata": {
        "id": "WOSOqLtUeJRT"
      },
      "source": [
        "def Get_Invoice_Number(file):\n",
        "\n",
        "    # Preprocess the text. Using pipe delimited format as the invoice number has spaces in some cases\n",
        "    #------------------------------------------------------------------------------------------------\n",
        "    \n",
        "    text = textract.process(file, method='tesseract')\n",
        "    text = text.decode('utf-8')\n",
        "\n",
        "    text = text.replace(\"\\r\\n\", \"|\")\n",
        "    text = re.sub(\" +\", \" \", text)\n",
        "\n",
        "    tokens = [i for i in text.split('|') if len(i) > 1]\n",
        "    text = '|'.join(tokens)\n",
        "\n",
        "    text = text.lower()\n",
        "    text = re.sub(\" number:| no\\.| n\\.\", \" number\", text)\n",
        "\n",
        "\n",
        "    # Extract the Invoice Number\n",
        "    #---------------------------\n",
        "    valid_matches = []\n",
        "\n",
        "    keywords = [\"invoice number\", \"lading number\", \"invoice\", \"lading\", \"number\"]\n",
        "\n",
        "    for keyword in keywords:\n",
        "\n",
        "        token = Extract_Tag_Data(keyword, text, 'reverse')\n",
        "\n",
        "        if len(token) > 0:\n",
        "            valid_matches.append(token)\n",
        "\n",
        "    valid_matches = [i.upper() for i in valid_matches]\n",
        "\n",
        "    if len(valid_matches) > 0:\n",
        "        invoice_number = valid_matches[0]\n",
        "        if len(invoice_number) > 20:\n",
        "            invoice_number = invoice_number.split('/')[0]\n",
        "    else:\n",
        "        invoice_number = \"No Invoice Number found\"\n",
        "    \n",
        "    return invoice_number"
      ],
      "execution_count": null,
      "outputs": []
    },
    {
      "cell_type": "markdown",
      "metadata": {
        "id": "1PuulaSZeJRU"
      },
      "source": [
        "## Packaging it all together"
      ]
    },
    {
      "cell_type": "code",
      "metadata": {
        "id": "wEJxKS7IeJRV",
        "outputId": "b0a6e447-551b-4952-c584-579b0f033150"
      },
      "source": [
        "for file in all_pdfs:\n",
        "\n",
        "    print(\"Processing File :\", file)\n",
        "    \n",
        "    file_text = Clean_Text(file)\n",
        "    \n",
        "    if Is_Invoice_Or_Drawing(file_text) == \"Invoice\":\n",
        "        \n",
        "        Invoice_Number = Get_Invoice_Number(file)\n",
        "        Invoice_Date = Get_Invoice_Date(file_text)\n",
        "        Invoice_Amount = Get_Invoice_Amount(file_text)\n",
        "\n",
        "        print(\"Document Type : Invoice\")\n",
        "        print(\"Invoice Number :\", Invoice_Number)\n",
        "        print(\"Invoice Date :\", Invoice_Date)\n",
        "        print(\"Invoice Amount :\", Invoice_Amount)\n",
        "        print(\"\\n\")\n",
        "    \n",
        "    else:\n",
        "        \n",
        "        Job_ID = Get_JobID(file_text)\n",
        "        Pipe_Class = Get_Pipe_Classes(file_text)\n",
        "        \n",
        "        print(\"Document Type : Engineering Drawing\")\n",
        "        print(\"Job ID :\", Job_ID)\n",
        "        print(\"Pipe Classes :\", Pipe_Class)\n",
        "        print(\"\\n\")"
      ],
      "execution_count": null,
      "outputs": [
        {
          "output_type": "stream",
          "text": [
            "Processing File : 09f8cfb0-d649-0137.pdf\n",
            "Document Type : Invoice\n",
            "Invoice Number : CMDU SZ. 023 7/220\n",
            "Invoice Date : 2019\n",
            "Invoice Amount : 19.59\n",
            "\n",
            "\n",
            "Processing File : 202076540912.pdf\n",
            "Document Type : Invoice\n",
            "Invoice Number : 8555691 \n",
            "Invoice Date : 03.01.2019\n",
            "Invoice Amount : 21.153,60\n",
            "\n",
            "\n",
            "Processing File : 201051107425035.pdf\n",
            "Document Type : Invoice\n",
            "Invoice Number : TERRELL RICHEMOND VIVAMUS IN FELIS EU SAPIEN CURSUS\n",
            "Invoice Date : November 6, 1971\n",
            "Invoice Amount : 4618\n",
            "\n",
            "\n",
            "Processing File : BD1-1421.pdf\n",
            "Document Type : Engineering Drawing\n",
            "Job ID : 14216\n",
            "Pipe Classes : ['SMHLS', 'SMLS']\n",
            "\n",
            "\n",
            "Processing File : INV_UCB_19847612.pdf\n",
            "Document Type : Invoice\n",
            "Invoice Number : 90000178\n",
            "Invoice Date : 08 January 2019\n",
            "Invoice Amount : 38.707,27\n",
            "\n",
            "\n",
            "Processing File : ISMP23497211.pdf\n",
            "Document Type : Invoice\n",
            "Invoice Number : INV-3337\n",
            "Invoice Date : January 25, 2016\n",
            "Invoice Amount : $93.50\n",
            "\n",
            "\n"
          ],
          "name": "stdout"
        }
      ]
    },
    {
      "cell_type": "markdown",
      "metadata": {
        "id": "ompaUQ7EeJRW"
      },
      "source": [
        "## Creating the final JSON output"
      ]
    },
    {
      "cell_type": "code",
      "metadata": {
        "id": "OLf3o5pheJRW"
      },
      "source": [
        "file = '201051107425035.pdf'"
      ],
      "execution_count": null,
      "outputs": []
    },
    {
      "cell_type": "code",
      "metadata": {
        "id": "ojUf-9DGeJRW"
      },
      "source": [
        "file_name = file.split('.')[0]\n",
        "\n",
        "file_text = Clean_Text(file)\n",
        "\n",
        "data = {}\n",
        "\n",
        "if Is_Invoice_Or_Drawing(file_text) == \"Invoice\":\n",
        "    \n",
        "    data['Document Type']  = \"Invoice\"\n",
        "    data['Invoice Number'] = Get_Invoice_Number(file)\n",
        "    data['Invoice Date']   = Get_Invoice_Date(file_text)\n",
        "    data['Invoice Amount'] = Get_Invoice_Amount(file_text)\n",
        "    \n",
        "else:\n",
        "\n",
        "    data['Document Type']  = \"Engineering Drawing\"\n",
        "    data['Job Number'] = Get_JobID(file_text)\n",
        "    data['Pipe Class'] = Get_Pipe_Classes(file_text)\n",
        "    \n",
        "with open(file_name + '.json', 'w') as f:\n",
        "    json.dump(data, f)"
      ],
      "execution_count": null,
      "outputs": []
    }
  ]
}